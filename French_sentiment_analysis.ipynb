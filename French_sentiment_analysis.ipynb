{
  "cells": [
    {
      "cell_type": "markdown",
      "source": [
        "# **ТГ-Бот “Д’Артаньян”**"
      ],
      "metadata": {
        "id": "Fu7tw6E4Bkub"
      }
    },
    {
      "cell_type": "markdown",
      "source": [
        "На определённых этапах изучения языка количество выучиваемых слов становится всё больше и больше. В какой-то момент можно даже прийти к тому, что это делать всё-таки лень. Наш бот предлагает не учить непосредственно перевод каких-то слов, а просто отмечать какую характеристику несёт это слово: положительную или отрицательную. Также подобный подход может пригодится в условиях подготовки к экзамену, когда надо понимать не столько сам перевод слова, сколько эмоциональную окраску (за/против, да/нет, положительно/отрицательно)."
      ],
      "metadata": {
        "id": "dkaAMCH3BlNX"
      }
    },
    {
      "cell_type": "markdown",
      "source": [
        "В данной тетрадке представлен первый этап нашей работы: выбор, обучение и сохранение результата работы модели."
      ],
      "metadata": {
        "id": "O58ldNkgB9sK"
      }
    },
    {
      "cell_type": "markdown",
      "source": [
        "Для начала, скачаем датасет. Мы выбрали [датасет](https://huggingface.co/datasets/tblard/allocine) с [Hugging Face](https://huggingface.co/). Основные преимущества данного датасета:\n",
        "\n",
        "1.   Выборка скачана с французского сайта. Данные не являются переводом с русского/английского языков, а представляют собой аутентичный материал.\n",
        "2.   Датасет имеет равное количество данных как для положительных отзывов, так и для отрицательных. Это поможет модели равномерно обучиться на обоих вариантах тональности.\n",
        "3.   Собранные в датасете данные представляют собой живой язык, язык повседневного общения и слегка \"отходит\" от формальных конструкций, предлагаемых в учебниках. Это поможет нашем пользователям погрузиться в мир \"настоящих французов\".\n",
        "\n",
        "*Théophile Blard, French sentiment analysis with BERT, (2020), GitHub repository, https://github.com/TheophileBlard/french-sentiment-analysis-with-bert*"
      ],
      "metadata": {
        "id": "1ORw7aZGCJoU"
      }
    },
    {
      "cell_type": "markdown",
      "source": [
        "## Датасет"
      ],
      "metadata": {
        "id": "H7TzpVY46KpI"
      }
    },
    {
      "cell_type": "code",
      "execution_count": 1,
      "metadata": {
        "id": "bPjzi7-NOVTb",
        "colab": {
          "base_uri": "https://localhost:8080/"
        },
        "outputId": "988b491c-e5af-4676-8fc5-f2c27363d054"
      },
      "outputs": [
        {
          "output_type": "stream",
          "name": "stdout",
          "text": [
            "--2024-06-25 19:38:54--  https://github.com/TheophileBlard/french-sentiment-analysis-with-bert/blob/master/allocine_dataset/data.tar.bz2\n",
            "Resolving github.com (github.com)... 140.82.114.4\n",
            "Connecting to github.com (github.com)|140.82.114.4|:443... connected.\n",
            "HTTP request sent, awaiting response... 200 OK\n",
            "Length: unspecified [text/html]\n",
            "Saving to: ‘data.tar.bz2’\n",
            "\n",
            "data.tar.bz2            [ <=>                ] 268.13K  --.-KB/s    in 0.1s    \n",
            "\n",
            "2024-06-25 19:38:55 (2.69 MB/s) - ‘data.tar.bz2’ saved [274567]\n",
            "\n"
          ]
        }
      ],
      "source": [
        "!wget https://github.com/TheophileBlard/french-sentiment-analysis-with-bert/blob/master/allocine_dataset/data.tar.bz2"
      ]
    },
    {
      "cell_type": "code",
      "execution_count": 2,
      "metadata": {
        "id": "gYDUGLa4RwMn",
        "colab": {
          "base_uri": "https://localhost:8080/"
        },
        "outputId": "343f7074-9be8-4db1-b0ee-a4c519a7e443"
      },
      "outputs": [
        {
          "output_type": "stream",
          "name": "stdout",
          "text": [
            "Collecting datasets\n",
            "  Downloading datasets-2.20.0-py3-none-any.whl (547 kB)\n",
            "\u001b[2K     \u001b[90m━━━━━━━━━━━━━━━━━━━━━━━━━━━━━━━━━━━━━━━━\u001b[0m \u001b[32m547.8/547.8 kB\u001b[0m \u001b[31m2.8 MB/s\u001b[0m eta \u001b[36m0:00:00\u001b[0m\n",
            "\u001b[?25hRequirement already satisfied: filelock in /usr/local/lib/python3.10/dist-packages (from datasets) (3.15.3)\n",
            "Requirement already satisfied: numpy>=1.17 in /usr/local/lib/python3.10/dist-packages (from datasets) (1.25.2)\n",
            "Collecting pyarrow>=15.0.0 (from datasets)\n",
            "  Downloading pyarrow-16.1.0-cp310-cp310-manylinux_2_28_x86_64.whl (40.8 MB)\n",
            "\u001b[2K     \u001b[90m━━━━━━━━━━━━━━━━━━━━━━━━━━━━━━━━━━━━━━━━\u001b[0m \u001b[32m40.8/40.8 MB\u001b[0m \u001b[31m10.9 MB/s\u001b[0m eta \u001b[36m0:00:00\u001b[0m\n",
            "\u001b[?25hRequirement already satisfied: pyarrow-hotfix in /usr/local/lib/python3.10/dist-packages (from datasets) (0.6)\n",
            "Collecting dill<0.3.9,>=0.3.0 (from datasets)\n",
            "  Downloading dill-0.3.8-py3-none-any.whl (116 kB)\n",
            "\u001b[2K     \u001b[90m━━━━━━━━━━━━━━━━━━━━━━━━━━━━━━━━━━━━━━━━\u001b[0m \u001b[32m116.3/116.3 kB\u001b[0m \u001b[31m4.7 MB/s\u001b[0m eta \u001b[36m0:00:00\u001b[0m\n",
            "\u001b[?25hRequirement already satisfied: pandas in /usr/local/lib/python3.10/dist-packages (from datasets) (2.0.3)\n",
            "Collecting requests>=2.32.2 (from datasets)\n",
            "  Downloading requests-2.32.3-py3-none-any.whl (64 kB)\n",
            "\u001b[2K     \u001b[90m━━━━━━━━━━━━━━━━━━━━━━━━━━━━━━━━━━━━━━━━\u001b[0m \u001b[32m64.9/64.9 kB\u001b[0m \u001b[31m3.4 MB/s\u001b[0m eta \u001b[36m0:00:00\u001b[0m\n",
            "\u001b[?25hRequirement already satisfied: tqdm>=4.66.3 in /usr/local/lib/python3.10/dist-packages (from datasets) (4.66.4)\n",
            "Collecting xxhash (from datasets)\n",
            "  Downloading xxhash-3.4.1-cp310-cp310-manylinux_2_17_x86_64.manylinux2014_x86_64.whl (194 kB)\n",
            "\u001b[2K     \u001b[90m━━━━━━━━━━━━━━━━━━━━━━━━━━━━━━━━━━━━━━━━\u001b[0m \u001b[32m194.1/194.1 kB\u001b[0m \u001b[31m6.8 MB/s\u001b[0m eta \u001b[36m0:00:00\u001b[0m\n",
            "\u001b[?25hCollecting multiprocess (from datasets)\n",
            "  Downloading multiprocess-0.70.16-py310-none-any.whl (134 kB)\n",
            "\u001b[2K     \u001b[90m━━━━━━━━━━━━━━━━━━━━━━━━━━━━━━━━━━━━━━━━\u001b[0m \u001b[32m134.8/134.8 kB\u001b[0m \u001b[31m4.7 MB/s\u001b[0m eta \u001b[36m0:00:00\u001b[0m\n",
            "\u001b[?25hRequirement already satisfied: fsspec[http]<=2024.5.0,>=2023.1.0 in /usr/local/lib/python3.10/dist-packages (from datasets) (2023.6.0)\n",
            "Requirement already satisfied: aiohttp in /usr/local/lib/python3.10/dist-packages (from datasets) (3.9.5)\n",
            "Requirement already satisfied: huggingface-hub>=0.21.2 in /usr/local/lib/python3.10/dist-packages (from datasets) (0.23.4)\n",
            "Requirement already satisfied: packaging in /usr/local/lib/python3.10/dist-packages (from datasets) (24.1)\n",
            "Requirement already satisfied: pyyaml>=5.1 in /usr/local/lib/python3.10/dist-packages (from datasets) (6.0.1)\n",
            "Requirement already satisfied: aiosignal>=1.1.2 in /usr/local/lib/python3.10/dist-packages (from aiohttp->datasets) (1.3.1)\n",
            "Requirement already satisfied: attrs>=17.3.0 in /usr/local/lib/python3.10/dist-packages (from aiohttp->datasets) (23.2.0)\n",
            "Requirement already satisfied: frozenlist>=1.1.1 in /usr/local/lib/python3.10/dist-packages (from aiohttp->datasets) (1.4.1)\n",
            "Requirement already satisfied: multidict<7.0,>=4.5 in /usr/local/lib/python3.10/dist-packages (from aiohttp->datasets) (6.0.5)\n",
            "Requirement already satisfied: yarl<2.0,>=1.0 in /usr/local/lib/python3.10/dist-packages (from aiohttp->datasets) (1.9.4)\n",
            "Requirement already satisfied: async-timeout<5.0,>=4.0 in /usr/local/lib/python3.10/dist-packages (from aiohttp->datasets) (4.0.3)\n",
            "Requirement already satisfied: typing-extensions>=3.7.4.3 in /usr/local/lib/python3.10/dist-packages (from huggingface-hub>=0.21.2->datasets) (4.12.2)\n",
            "Requirement already satisfied: charset-normalizer<4,>=2 in /usr/local/lib/python3.10/dist-packages (from requests>=2.32.2->datasets) (3.3.2)\n",
            "Requirement already satisfied: idna<4,>=2.5 in /usr/local/lib/python3.10/dist-packages (from requests>=2.32.2->datasets) (3.7)\n",
            "Requirement already satisfied: urllib3<3,>=1.21.1 in /usr/local/lib/python3.10/dist-packages (from requests>=2.32.2->datasets) (2.0.7)\n",
            "Requirement already satisfied: certifi>=2017.4.17 in /usr/local/lib/python3.10/dist-packages (from requests>=2.32.2->datasets) (2024.6.2)\n",
            "Requirement already satisfied: python-dateutil>=2.8.2 in /usr/local/lib/python3.10/dist-packages (from pandas->datasets) (2.8.2)\n",
            "Requirement already satisfied: pytz>=2020.1 in /usr/local/lib/python3.10/dist-packages (from pandas->datasets) (2023.4)\n",
            "Requirement already satisfied: tzdata>=2022.1 in /usr/local/lib/python3.10/dist-packages (from pandas->datasets) (2024.1)\n",
            "Requirement already satisfied: six>=1.5 in /usr/local/lib/python3.10/dist-packages (from python-dateutil>=2.8.2->pandas->datasets) (1.16.0)\n",
            "Installing collected packages: xxhash, requests, pyarrow, dill, multiprocess, datasets\n",
            "  Attempting uninstall: requests\n",
            "    Found existing installation: requests 2.31.0\n",
            "    Uninstalling requests-2.31.0:\n",
            "      Successfully uninstalled requests-2.31.0\n",
            "  Attempting uninstall: pyarrow\n",
            "    Found existing installation: pyarrow 14.0.2\n",
            "    Uninstalling pyarrow-14.0.2:\n",
            "      Successfully uninstalled pyarrow-14.0.2\n",
            "\u001b[31mERROR: pip's dependency resolver does not currently take into account all the packages that are installed. This behaviour is the source of the following dependency conflicts.\n",
            "cudf-cu12 24.4.1 requires pyarrow<15.0.0a0,>=14.0.1, but you have pyarrow 16.1.0 which is incompatible.\n",
            "google-colab 1.0.0 requires requests==2.31.0, but you have requests 2.32.3 which is incompatible.\n",
            "ibis-framework 8.0.0 requires pyarrow<16,>=2, but you have pyarrow 16.1.0 which is incompatible.\u001b[0m\u001b[31m\n",
            "\u001b[0mSuccessfully installed datasets-2.20.0 dill-0.3.8 multiprocess-0.70.16 pyarrow-16.1.0 requests-2.32.3 xxhash-3.4.1\n"
          ]
        }
      ],
      "source": [
        "!pip install datasets"
      ]
    },
    {
      "cell_type": "markdown",
      "source": [
        "в"
      ],
      "metadata": {
        "id": "UUk9NfAcDn5X"
      }
    },
    {
      "cell_type": "code",
      "execution_count": 3,
      "metadata": {
        "id": "GxnxFrziUyFJ"
      },
      "outputs": [],
      "source": [
        "from datasets import load_dataset\n",
        "import pandas as pd"
      ]
    },
    {
      "cell_type": "code",
      "execution_count": 4,
      "metadata": {
        "id": "wXHR3dheRpEH",
        "colab": {
          "base_uri": "https://localhost:8080/",
          "height": 345,
          "referenced_widgets": [
            "168569473f0142ccb331ce36e445623d",
            "73ff1fd5bd25476aaf077a89fb71fe89",
            "d0444258f7ac43a99d5c20648a2d1e8a",
            "36596fbd3e884fcc80feca3d2f97e898",
            "ea3511b8f9b1498db57b8cc184dd6a0f",
            "39686b5cfcfb4e08a1c43e65e18d40e3",
            "8119a619c672495b856ef044d1d313c2",
            "34f85873adc941dca8e21fa63c67f444",
            "65263e1ddfcd4e3a898018846aed982b",
            "8c223b4f05df4742b58b63d649c10081",
            "933378326e094af1bee8971a638f1c60",
            "f389ab544f1c43aab57e6e77b6d2f21e",
            "512a72e9603f4202872e54b901fd6cd8",
            "bbf89e84cf5f4d0c89e2fa60c2bf56b5",
            "7ff0e9a91953499ca1cedce6a51f641e",
            "0fadc88f6018429a9cfa5bb45b15ba64",
            "27cdb9e40aa1424c831d6dea59589d51",
            "377c93ecada64f35ac736d13ba0480ce",
            "1f6b93b60f634a44b837922b42c0692d",
            "fd685a3738f84749809a89cfb3159845",
            "a1cfe6b0f9104f6fa0d879757c558669",
            "102f411ead6248cdad150304b85fdae7",
            "c04fcfcaa7b645248b66905ff44135fb",
            "4946ab476507488899217e45a3e6259d",
            "64a1b712c7a0458abd46f54f65b2be1f",
            "afcad34747e245588ec91b5bf8274594",
            "3f8a366e8257423c998f7b32e1f1f11b",
            "8a455d0fb5e3460c90d65c642f2b97b5",
            "c84ae9b326d54354997360d6f84bfb9a",
            "5178bf336fc6476d8fc009e55e87e3b7",
            "bfb43fd0e2c244b2a989b65460c4006e",
            "761ff679ce0148419ec1fb6f7d3e6269",
            "5e0682431ad6415eab422e32b1a63b09",
            "ae13dd3b5b734e32adb16de114d9ce13",
            "4643a5db415846de8bd7ec72af70e936",
            "631a6ed4145d434bb5616c06c2b38ba8",
            "1f5435999a5f49ca9ca877da44eb8a27",
            "1999c8f147804fe0b39360eab29e75f7",
            "967692439ccd47828a603e5507741a3f",
            "39a18208926a44709b8178e139c11057",
            "e83baa42d84d461eab20b597faa88556",
            "913d7e0d172140ffb95eeed0dcc6e62f",
            "123883f412a64d3a99a938fc2927a627",
            "9363017c38b543c180de146425ce4fd6",
            "cf273fd9596f472fb5f3332c409c5b13",
            "86e5c67466aa4c1a853a7cd7356d2cf7",
            "d4f075465a6f4e0a99a7a18f7f0e2874",
            "9e04e230aa8a460596c541bd1377c9ae",
            "38988ac1bb7a445aa6cca2c40340aee1",
            "b101b36924cb422ab80588edc464be33",
            "63c0cb9abaed4d77b3a28260efe7101b",
            "701b4a17e4f7434f836f3b66bf42ab62",
            "a290cd6e49df470cb5f265e1ee4d79d0",
            "f1f8ecb118274dfb9ea968c3ab172668",
            "9d258848561a4a4189fd79690cbaa4dd",
            "5b3d810554d240c4bcc32e21c6d5843c",
            "de216c7696a94af2ad23db13378e139e",
            "8d28ad5cbcd74131b18b462ddd90b1b0",
            "2793587e11304e33b5af79c1889bd80d",
            "527d1d10bdab42ed9a2296c0b3dc228b",
            "428259517d2f418eb7dc3adf8d45a048",
            "d176427d8ea0491a882c5ecd46d7f102",
            "88133ad7a30d432fbf72ace7d8c202ec",
            "0146cff2ec2f47aa927fb7480b5a577e",
            "22371c93dc8b4c4182f846b0bba7eae7",
            "5efc2d323be748c2944a9e253c11e7c8",
            "fb34b97d501745069ba3ba348424b7bd",
            "91deb1f765944022bcc22dcc8507a53b",
            "13a64b0872d24588a3a5ae6d68710b95",
            "5bb75210462347f1b7aaea147daf2077",
            "7e01cb2fb4624e87bbb8298a6bda0842",
            "ebd325e170184a4f9d6a125313a099b6",
            "d6589f05c47d45bb934ab36c1317b224",
            "86f902eeebeb40f184ec4d8443b92d86",
            "11a9ba5b903d4e4db5d0c1177146e0e2",
            "39c7818d9b854273bbe89390efaa5bad",
            "de8899b291b048789828c0d38bd67003"
          ]
        },
        "outputId": "9b169ab9-c1de-4593-da10-212aacf1eeab"
      },
      "outputs": [
        {
          "output_type": "stream",
          "name": "stderr",
          "text": [
            "/usr/local/lib/python3.10/dist-packages/huggingface_hub/utils/_token.py:89: UserWarning: \n",
            "The secret `HF_TOKEN` does not exist in your Colab secrets.\n",
            "To authenticate with the Hugging Face Hub, create a token in your settings tab (https://huggingface.co/settings/tokens), set it as secret in your Google Colab and restart your session.\n",
            "You will be able to reuse this secret in all of your notebooks.\n",
            "Please note that authentication is recommended but still optional to access public models or datasets.\n",
            "  warnings.warn(\n"
          ]
        },
        {
          "output_type": "display_data",
          "data": {
            "text/plain": [
              "Downloading readme:   0%|          | 0.00/9.31k [00:00<?, ?B/s]"
            ],
            "application/vnd.jupyter.widget-view+json": {
              "version_major": 2,
              "version_minor": 0,
              "model_id": "168569473f0142ccb331ce36e445623d"
            }
          },
          "metadata": {}
        },
        {
          "output_type": "display_data",
          "data": {
            "text/plain": [
              "Downloading data:   0%|          | 0.00/60.0M [00:00<?, ?B/s]"
            ],
            "application/vnd.jupyter.widget-view+json": {
              "version_major": 2,
              "version_minor": 0,
              "model_id": "f389ab544f1c43aab57e6e77b6d2f21e"
            }
          },
          "metadata": {}
        },
        {
          "output_type": "display_data",
          "data": {
            "text/plain": [
              "Downloading data:   0%|          | 0.00/7.58M [00:00<?, ?B/s]"
            ],
            "application/vnd.jupyter.widget-view+json": {
              "version_major": 2,
              "version_minor": 0,
              "model_id": "c04fcfcaa7b645248b66905ff44135fb"
            }
          },
          "metadata": {}
        },
        {
          "output_type": "display_data",
          "data": {
            "text/plain": [
              "Downloading data:   0%|          | 0.00/7.58M [00:00<?, ?B/s]"
            ],
            "application/vnd.jupyter.widget-view+json": {
              "version_major": 2,
              "version_minor": 0,
              "model_id": "ae13dd3b5b734e32adb16de114d9ce13"
            }
          },
          "metadata": {}
        },
        {
          "output_type": "display_data",
          "data": {
            "text/plain": [
              "Generating train split:   0%|          | 0/160000 [00:00<?, ? examples/s]"
            ],
            "application/vnd.jupyter.widget-view+json": {
              "version_major": 2,
              "version_minor": 0,
              "model_id": "cf273fd9596f472fb5f3332c409c5b13"
            }
          },
          "metadata": {}
        },
        {
          "output_type": "display_data",
          "data": {
            "text/plain": [
              "Generating validation split:   0%|          | 0/20000 [00:00<?, ? examples/s]"
            ],
            "application/vnd.jupyter.widget-view+json": {
              "version_major": 2,
              "version_minor": 0,
              "model_id": "5b3d810554d240c4bcc32e21c6d5843c"
            }
          },
          "metadata": {}
        },
        {
          "output_type": "display_data",
          "data": {
            "text/plain": [
              "Generating test split:   0%|          | 0/20000 [00:00<?, ? examples/s]"
            ],
            "application/vnd.jupyter.widget-view+json": {
              "version_major": 2,
              "version_minor": 0,
              "model_id": "fb34b97d501745069ba3ba348424b7bd"
            }
          },
          "metadata": {}
        }
      ],
      "source": [
        "dataset = load_dataset('allocine')\n",
        "df = pd.DataFrame(dataset['train'])\n",
        "df.to_csv('train.csv', index=False)\n",
        "\n",
        "df_val = pd.DataFrame(dataset['validation'])\n",
        "df_val.to_csv('validation.csv', index=False)\n",
        "\n",
        "df_test = pd.DataFrame(dataset['test'])\n",
        "df_test.to_csv('test.csv', index=False)"
      ]
    },
    {
      "cell_type": "markdown",
      "source": [
        "## Обработка текста"
      ],
      "metadata": {
        "id": "IJhMIkxM6QNk"
      }
    },
    {
      "cell_type": "markdown",
      "source": [
        "Перейдем к предобработке текста. Для начала выполним все нужные импорты. Сам процесс предобработки заключатеся в том, чтобы привести текст к нижнему регистру и убрать все лишние символы. Мы не удаляем стоп-слова, т.к. это может привести к выбору неверной тональности."
      ],
      "metadata": {
        "id": "yRy2840cDrpK"
      }
    },
    {
      "cell_type": "code",
      "source": [
        "from sklearn.feature_extraction.text import TfidfVectorizer\n",
        "from sklearn.pipeline import make_pipeline\n",
        "from sklearn.metrics import classification_report\n",
        "from sklearn.metrics import roc_auc_score\n",
        "from sklearn.linear_model import LogisticRegression\n",
        "from sklearn.naive_bayes import MultinomialNB\n",
        "from sklearn.ensemble import RandomForestClassifier\n",
        "import re\n",
        "import string"
      ],
      "metadata": {
        "id": "Y-r3gyZDDs4a"
      },
      "execution_count": 5,
      "outputs": []
    },
    {
      "cell_type": "code",
      "execution_count": 6,
      "metadata": {
        "id": "XgA_gIQmUwIl"
      },
      "outputs": [],
      "source": [
        "def preprocess_text(text):\n",
        "    text = text.lower()\n",
        "    text = re.sub('\\[.*?\\]', '', text)\n",
        "    text = re.sub('[%s]' % re.escape(string.punctuation.replace(\"'\", \"\")), '', text)\n",
        "    text = re.sub('\\w*\\d\\w*', '', text)\n",
        "    return text\n",
        "\n",
        "df['review'] = df['review'].apply(preprocess_text)\n",
        "df_val['review'] = df_val['review'].apply(preprocess_text)\n",
        "df_test['review'] = df_test['review'].apply(preprocess_text)"
      ]
    },
    {
      "cell_type": "markdown",
      "source": [
        "## Выбор модели"
      ],
      "metadata": {
        "id": "Byl12sol6SWm"
      }
    },
    {
      "cell_type": "markdown",
      "source": [
        "Для сравнения мы выбрали 3 модели: LogisticRegression(), MultinomialNB(), RandomForestClassifier().\n",
        "\n",
        "Вот краткое описание преимуществ каждой из этих моделей при выполнении задачи определения тональности:\n",
        "\n",
        "1. Logistic Regression:\n",
        "   - Логистическая регрессия является простым и эффективным алгоритмом для задач классификации, включая задачу определения тональности.\n",
        "   - Хорошо работает с линейно разделимыми данными.\n",
        "   - Дает вероятностную интерпретацию результатов.\n",
        "\n",
        "2. Multinomial Naive Bayes:\n",
        "   - Мультиномиальный наивный Байесовский классификатор хорошо работает с текстовыми данными, что делает его хорошим выбором для анализа тональности текста.\n",
        "   - Эффективен при работе с большими корпусами текста.\n",
        "   - Хорошо справляется с множеством признаков.\n",
        "\n",
        "3. Random Forest Classifier:\n",
        "   - Случайный лес является мощным алгоритмом машинного обучения, который хорошо подходит для задач классификации, включая определение тональности.\n",
        "   - Способен обрабатывать большое количество признаков и автоматически находить наиболее важные.\n",
        "   - Устойчив к переобучению и хорошо работает на больших объемах данных."
      ],
      "metadata": {
        "id": "cQ3oYZWzEOsY"
      }
    },
    {
      "cell_type": "code",
      "execution_count": null,
      "metadata": {
        "colab": {
          "base_uri": "https://localhost:8080/"
        },
        "id": "9pJHTSj8VCaJ",
        "outputId": "2420e338-9990-4b55-e439-5c0a5235deb9"
      },
      "outputs": [
        {
          "output_type": "stream",
          "name": "stdout",
          "text": [
            "LogisticRegression(max_iter=1000)\n",
            "              precision    recall  f1-score   support\n",
            "\n",
            "           0       0.93      0.92      0.93     10408\n",
            "           1       0.92      0.92      0.92      9592\n",
            "\n",
            "    accuracy                           0.92     20000\n",
            "   macro avg       0.92      0.92      0.92     20000\n",
            "weighted avg       0.92      0.92      0.92     20000\n",
            "\n",
            "ROC_AUC score:  0.924557014588765\n",
            "\n",
            "\n",
            "MultinomialNB()\n",
            "              precision    recall  f1-score   support\n",
            "\n",
            "           0       0.91      0.90      0.91     10408\n",
            "           1       0.89      0.91      0.90      9592\n",
            "\n",
            "    accuracy                           0.90     20000\n",
            "   macro avg       0.90      0.90      0.90     20000\n",
            "weighted avg       0.90      0.90      0.90     20000\n",
            "\n",
            "ROC_AUC score:  0.9026684580219618\n",
            "\n",
            "\n",
            "RandomForestClassifier()\n",
            "              precision    recall  f1-score   support\n",
            "\n",
            "           0       0.88      0.90      0.89     10408\n",
            "           1       0.89      0.87      0.88      9592\n",
            "\n",
            "    accuracy                           0.89     20000\n",
            "   macro avg       0.89      0.89      0.89     20000\n",
            "weighted avg       0.89      0.89      0.89     20000\n",
            "\n",
            "ROC_AUC score:  0.8858704553948685\n",
            "\n",
            "\n"
          ]
        }
      ],
      "source": [
        "models = [\n",
        "    LogisticRegression(max_iter=1000),\n",
        "    MultinomialNB(),\n",
        "    RandomForestClassifier()\n",
        "]\n",
        "\n",
        "for model in models:\n",
        "    print(model)\n",
        "    pipeline = make_pipeline(TfidfVectorizer(), model)\n",
        "    pipeline.fit(df['review'], df['label'])\n",
        "    predictions = pipeline.predict(df_test['review'])\n",
        "    print(classification_report(df_test['label'], predictions))\n",
        "    print('ROC_AUC score: ', roc_auc_score(df_test['label'], predictions))\n",
        "    print('\\n')"
      ]
    },
    {
      "cell_type": "markdown",
      "source": [
        "Мы выяснили, что логистическая регрессия показала себя лучше всех. Теперь нужно подобрать верные параметры."
      ],
      "metadata": {
        "id": "whN7rbyhH5lT"
      }
    },
    {
      "cell_type": "markdown",
      "source": [
        "## Подбор параметров"
      ],
      "metadata": {
        "id": "WoI27vHP6VOA"
      }
    },
    {
      "cell_type": "markdown",
      "source": [
        "Зафиксируем наш изначальный результат логистической регрессии до подобранных параметров."
      ],
      "metadata": {
        "id": "wcocbKeMIDPk"
      }
    },
    {
      "cell_type": "code",
      "source": [
        "vectorizer = TfidfVectorizer(ngram_range=(1,2))\n",
        "X_train = vectorizer.fit_transform(df['review'])\n",
        "X_test = vectorizer.transform(df_test['review'])\n",
        "X_val = vectorizer.transform(df_val['review'])"
      ],
      "metadata": {
        "id": "HJ3wEABLoZ1G"
      },
      "execution_count": 67,
      "outputs": []
    },
    {
      "cell_type": "code",
      "source": [
        "model = LogisticRegression(max_iter=1000)\n",
        "model.fit(X_train, df['label'])\n",
        "\n",
        "y_test_pred = model.predict_proba(X_test)[:, 1]\n",
        "roc_auc = roc_auc_score(df_test['label'], y_test_pred)\n",
        "print('ROC AUC score:', roc_auc)"
      ],
      "metadata": {
        "colab": {
          "base_uri": "https://localhost:8080/"
        },
        "id": "PtmLdsveonVT",
        "outputId": "45339f61-ed0a-4a42-f2e1-41d6d9fc25e1"
      },
      "execution_count": null,
      "outputs": [
        {
          "output_type": "stream",
          "name": "stdout",
          "text": [
            "ROC AUC score: 0.9826529634290426\n"
          ]
        }
      ]
    },
    {
      "cell_type": "markdown",
      "source": [
        "Для подбора параметров воспользуемс методом GridSearchCV."
      ],
      "metadata": {
        "id": "-WOS1M4tIJ-s"
      }
    },
    {
      "cell_type": "code",
      "source": [
        "from sklearn.model_selection import GridSearchCV\n",
        "\n",
        "\n",
        "param_grid = {\n",
        "    'C': [0.1, 1, 10],\n",
        "    'solver': ['lbfgs', 'sag', 'saga'],\n",
        "    'class_weight': [None, 'balanced'],\n",
        "    'max_iter':[1000, 1500]\n",
        "}\n",
        "\n",
        "\n",
        "grid_search = GridSearchCV(LogisticRegression(), param_grid, cv=3, verbose=2, scoring='roc_auc')\n",
        "grid_search.fit(X_val, df_val['label'])\n",
        "\n",
        "\n",
        "print('Best parameters:', grid_search.best_params_)\n",
        "print('Best score:', grid_search.best_score_)"
      ],
      "metadata": {
        "colab": {
          "base_uri": "https://localhost:8080/"
        },
        "id": "IqQdIV4k8IQn",
        "outputId": "c59866b4-4b94-446b-973b-879502dfecb1"
      },
      "execution_count": null,
      "outputs": [
        {
          "output_type": "stream",
          "name": "stdout",
          "text": [
            "Fitting 3 folds for each of 36 candidates, totalling 108 fits\n",
            "[CV] END C=0.1, class_weight=None, max_iter=1000, solver=lbfgs; total time=  17.1s\n",
            "[CV] END C=0.1, class_weight=None, max_iter=1000, solver=lbfgs; total time=  12.5s\n",
            "[CV] END C=0.1, class_weight=None, max_iter=1000, solver=lbfgs; total time=  13.6s\n",
            "[CV] END C=0.1, class_weight=None, max_iter=1000, solver=sag; total time=   2.5s\n",
            "[CV] END C=0.1, class_weight=None, max_iter=1000, solver=sag; total time=   2.5s\n",
            "[CV] END C=0.1, class_weight=None, max_iter=1000, solver=sag; total time=   3.5s\n",
            "[CV] END C=0.1, class_weight=None, max_iter=1000, solver=saga; total time=   3.7s\n",
            "[CV] END C=0.1, class_weight=None, max_iter=1000, solver=saga; total time=   3.6s\n",
            "[CV] END C=0.1, class_weight=None, max_iter=1000, solver=saga; total time=   3.7s\n",
            "[CV] END C=0.1, class_weight=None, max_iter=1500, solver=lbfgs; total time=  12.3s\n",
            "[CV] END C=0.1, class_weight=None, max_iter=1500, solver=lbfgs; total time=  15.1s\n",
            "[CV] END C=0.1, class_weight=None, max_iter=1500, solver=lbfgs; total time=  13.0s\n",
            "[CV] END C=0.1, class_weight=None, max_iter=1500, solver=sag; total time=   2.1s\n",
            "[CV] END C=0.1, class_weight=None, max_iter=1500, solver=sag; total time=   2.1s\n",
            "[CV] END C=0.1, class_weight=None, max_iter=1500, solver=sag; total time=   2.1s\n",
            "[CV] END C=0.1, class_weight=None, max_iter=1500, solver=saga; total time=   4.6s\n",
            "[CV] END C=0.1, class_weight=None, max_iter=1500, solver=saga; total time=   3.5s\n",
            "[CV] END C=0.1, class_weight=None, max_iter=1500, solver=saga; total time=   2.9s\n",
            "[CV] END C=0.1, class_weight=balanced, max_iter=1000, solver=lbfgs; total time=  20.0s\n",
            "[CV] END C=0.1, class_weight=balanced, max_iter=1000, solver=lbfgs; total time=  19.8s\n",
            "[CV] END C=0.1, class_weight=balanced, max_iter=1000, solver=lbfgs; total time=  20.6s\n",
            "[CV] END C=0.1, class_weight=balanced, max_iter=1000, solver=sag; total time=   1.9s\n",
            "[CV] END C=0.1, class_weight=balanced, max_iter=1000, solver=sag; total time=   2.6s\n",
            "[CV] END C=0.1, class_weight=balanced, max_iter=1000, solver=sag; total time=   3.0s\n",
            "[CV] END C=0.1, class_weight=balanced, max_iter=1000, solver=saga; total time=   2.9s\n",
            "[CV] END C=0.1, class_weight=balanced, max_iter=1000, solver=saga; total time=   2.9s\n",
            "[CV] END C=0.1, class_weight=balanced, max_iter=1000, solver=saga; total time=   2.7s\n",
            "[CV] END C=0.1, class_weight=balanced, max_iter=1500, solver=lbfgs; total time=  19.3s\n",
            "[CV] END C=0.1, class_weight=balanced, max_iter=1500, solver=lbfgs; total time=  20.0s\n",
            "[CV] END C=0.1, class_weight=balanced, max_iter=1500, solver=lbfgs; total time=  20.8s\n",
            "[CV] END C=0.1, class_weight=balanced, max_iter=1500, solver=sag; total time=   3.2s\n",
            "[CV] END C=0.1, class_weight=balanced, max_iter=1500, solver=sag; total time=   2.6s\n",
            "[CV] END C=0.1, class_weight=balanced, max_iter=1500, solver=sag; total time=   2.1s\n",
            "[CV] END C=0.1, class_weight=balanced, max_iter=1500, solver=saga; total time=   2.7s\n",
            "[CV] END C=0.1, class_weight=balanced, max_iter=1500, solver=saga; total time=   2.7s\n",
            "[CV] END C=0.1, class_weight=balanced, max_iter=1500, solver=saga; total time=   4.0s\n",
            "[CV] END C=1, class_weight=None, max_iter=1000, solver=lbfgs; total time=  21.7s\n",
            "[CV] END C=1, class_weight=None, max_iter=1000, solver=lbfgs; total time=  22.5s\n",
            "[CV] END C=1, class_weight=None, max_iter=1000, solver=lbfgs; total time=  21.1s\n",
            "[CV] END ..C=1, class_weight=None, max_iter=1000, solver=sag; total time=   2.6s\n",
            "[CV] END ..C=1, class_weight=None, max_iter=1000, solver=sag; total time=   2.7s\n",
            "[CV] END ..C=1, class_weight=None, max_iter=1000, solver=sag; total time=   3.1s\n",
            "[CV] END .C=1, class_weight=None, max_iter=1000, solver=saga; total time=   4.4s\n",
            "[CV] END .C=1, class_weight=None, max_iter=1000, solver=saga; total time=   3.0s\n",
            "[CV] END .C=1, class_weight=None, max_iter=1000, solver=saga; total time=   2.9s\n",
            "[CV] END C=1, class_weight=None, max_iter=1500, solver=lbfgs; total time=  22.9s\n",
            "[CV] END C=1, class_weight=None, max_iter=1500, solver=lbfgs; total time=  20.0s\n",
            "[CV] END C=1, class_weight=None, max_iter=1500, solver=lbfgs; total time=  21.7s\n",
            "[CV] END ..C=1, class_weight=None, max_iter=1500, solver=sag; total time=   3.9s\n",
            "[CV] END ..C=1, class_weight=None, max_iter=1500, solver=sag; total time=   2.6s\n",
            "[CV] END ..C=1, class_weight=None, max_iter=1500, solver=sag; total time=   2.3s\n",
            "[CV] END .C=1, class_weight=None, max_iter=1500, solver=saga; total time=   3.0s\n",
            "[CV] END .C=1, class_weight=None, max_iter=1500, solver=saga; total time=   3.8s\n",
            "[CV] END .C=1, class_weight=None, max_iter=1500, solver=saga; total time=   3.8s\n",
            "[CV] END C=1, class_weight=balanced, max_iter=1000, solver=lbfgs; total time=  44.7s\n",
            "[CV] END C=1, class_weight=balanced, max_iter=1000, solver=lbfgs; total time=  52.5s\n",
            "[CV] END C=1, class_weight=balanced, max_iter=1000, solver=lbfgs; total time=  45.1s\n",
            "[CV] END C=1, class_weight=balanced, max_iter=1000, solver=sag; total time=   2.7s\n",
            "[CV] END C=1, class_weight=balanced, max_iter=1000, solver=sag; total time=   3.9s\n",
            "[CV] END C=1, class_weight=balanced, max_iter=1000, solver=sag; total time=   3.7s\n",
            "[CV] END C=1, class_weight=balanced, max_iter=1000, solver=saga; total time=   3.7s\n",
            "[CV] END C=1, class_weight=balanced, max_iter=1000, solver=saga; total time=   3.6s\n",
            "[CV] END C=1, class_weight=balanced, max_iter=1000, solver=saga; total time=   4.5s\n",
            "[CV] END C=1, class_weight=balanced, max_iter=1500, solver=lbfgs; total time=  47.5s\n",
            "[CV] END C=1, class_weight=balanced, max_iter=1500, solver=lbfgs; total time=  50.6s\n",
            "[CV] END C=1, class_weight=balanced, max_iter=1500, solver=lbfgs; total time=  47.0s\n",
            "[CV] END C=1, class_weight=balanced, max_iter=1500, solver=sag; total time=   2.5s\n",
            "[CV] END C=1, class_weight=balanced, max_iter=1500, solver=sag; total time=   2.9s\n",
            "[CV] END C=1, class_weight=balanced, max_iter=1500, solver=sag; total time=   4.0s\n",
            "[CV] END C=1, class_weight=balanced, max_iter=1500, solver=saga; total time=   3.0s\n",
            "[CV] END C=1, class_weight=balanced, max_iter=1500, solver=saga; total time=   3.0s\n",
            "[CV] END C=1, class_weight=balanced, max_iter=1500, solver=saga; total time=   3.0s\n",
            "[CV] END C=10, class_weight=None, max_iter=1000, solver=lbfgs; total time=  48.3s\n",
            "[CV] END C=10, class_weight=None, max_iter=1000, solver=lbfgs; total time=  32.0s\n",
            "[CV] END C=10, class_weight=None, max_iter=1000, solver=lbfgs; total time=  31.4s\n",
            "[CV] END .C=10, class_weight=None, max_iter=1000, solver=sag; total time=   4.8s\n",
            "[CV] END .C=10, class_weight=None, max_iter=1000, solver=sag; total time=   4.7s\n",
            "[CV] END .C=10, class_weight=None, max_iter=1000, solver=sag; total time=   7.0s\n",
            "[CV] END C=10, class_weight=None, max_iter=1000, solver=saga; total time=   9.1s\n",
            "[CV] END C=10, class_weight=None, max_iter=1000, solver=saga; total time=   9.8s\n",
            "[CV] END C=10, class_weight=None, max_iter=1000, solver=saga; total time=  10.2s\n",
            "[CV] END C=10, class_weight=None, max_iter=1500, solver=lbfgs; total time=  47.2s\n",
            "[CV] END C=10, class_weight=None, max_iter=1500, solver=lbfgs; total time=  33.3s\n",
            "[CV] END C=10, class_weight=None, max_iter=1500, solver=lbfgs; total time=  30.8s\n",
            "[CV] END .C=10, class_weight=None, max_iter=1500, solver=sag; total time=   5.8s\n",
            "[CV] END .C=10, class_weight=None, max_iter=1500, solver=sag; total time=   5.1s\n",
            "[CV] END .C=10, class_weight=None, max_iter=1500, solver=sag; total time=   4.9s\n",
            "[CV] END C=10, class_weight=None, max_iter=1500, solver=saga; total time=  10.2s\n",
            "[CV] END C=10, class_weight=None, max_iter=1500, solver=saga; total time=   9.6s\n",
            "[CV] END C=10, class_weight=None, max_iter=1500, solver=saga; total time=   8.8s\n",
            "[CV] END C=10, class_weight=balanced, max_iter=1000, solver=lbfgs; total time= 1.5min\n",
            "[CV] END C=10, class_weight=balanced, max_iter=1000, solver=lbfgs; total time= 1.3min\n",
            "[CV] END C=10, class_weight=balanced, max_iter=1000, solver=lbfgs; total time= 1.0min\n",
            "[CV] END C=10, class_weight=balanced, max_iter=1000, solver=sag; total time=   5.6s\n",
            "[CV] END C=10, class_weight=balanced, max_iter=1000, solver=sag; total time=   7.0s\n",
            "[CV] END C=10, class_weight=balanced, max_iter=1000, solver=sag; total time=   5.7s\n",
            "[CV] END C=10, class_weight=balanced, max_iter=1000, solver=saga; total time=  10.2s\n",
            "[CV] END C=10, class_weight=balanced, max_iter=1000, solver=saga; total time=   9.7s\n",
            "[CV] END C=10, class_weight=balanced, max_iter=1000, solver=saga; total time=   8.9s\n",
            "[CV] END C=10, class_weight=balanced, max_iter=1500, solver=lbfgs; total time= 1.7min\n",
            "[CV] END C=10, class_weight=balanced, max_iter=1500, solver=lbfgs; total time= 1.3min\n",
            "[CV] END C=10, class_weight=balanced, max_iter=1500, solver=lbfgs; total time= 1.1min\n",
            "[CV] END C=10, class_weight=balanced, max_iter=1500, solver=sag; total time=   4.7s\n",
            "[CV] END C=10, class_weight=balanced, max_iter=1500, solver=sag; total time=   5.0s\n",
            "[CV] END C=10, class_weight=balanced, max_iter=1500, solver=sag; total time=   6.0s\n",
            "[CV] END C=10, class_weight=balanced, max_iter=1500, solver=saga; total time=   8.1s\n",
            "[CV] END C=10, class_weight=balanced, max_iter=1500, solver=saga; total time=  10.0s\n",
            "[CV] END C=10, class_weight=balanced, max_iter=1500, solver=saga; total time=   9.9s\n",
            "Best parameters: {'C': 10, 'class_weight': 'balanced', 'max_iter': 1500, 'solver': 'saga'}\n",
            "Best score: 0.9738640912930565\n"
          ]
        }
      ]
    },
    {
      "cell_type": "markdown",
      "source": [
        "Подставим получившийся результат. Мы получим следующий ROC_AUC, который улучшился по сравнению с прошлым. Ура, победа!"
      ],
      "metadata": {
        "id": "6RpQnYgMIRTO"
      }
    },
    {
      "cell_type": "code",
      "source": [
        "model = LogisticRegression(C=10, class_weight='balanced',solver='saga', max_iter=1500)\n",
        "model.fit(X_train, df['label'])\n",
        "\n",
        "y_test_pred = model.predict_proba(X_test)[:, 1]\n",
        "roc_auc = roc_auc_score(df_test['label'], y_test_pred)\n",
        "print('ROC AUC score:', roc_auc)"
      ],
      "metadata": {
        "colab": {
          "base_uri": "https://localhost:8080/"
        },
        "id": "GhwnqQupCiuF",
        "outputId": "2eaaa6d1-61b1-4a0e-f288-c67b5e5d47cf"
      },
      "execution_count": 68,
      "outputs": [
        {
          "output_type": "stream",
          "name": "stdout",
          "text": [
            "ROC AUC score: 0.9867574959981383\n"
          ]
        }
      ]
    },
    {
      "cell_type": "markdown",
      "source": [
        "## Обучение финальной модели и сохранение\n",
        "\n"
      ],
      "metadata": {
        "id": "hJ24awK36o2h"
      }
    },
    {
      "cell_type": "markdown",
      "source": [
        "Окончательная версия модели была обучена на всех данных (train, test, validation), включая суммарно 200 000 записей, по следующим причинам:\n",
        "\n",
        "1. Увеличение разнообразия данных: Объединение всех данных из тренировочного, тестового и валидационного наборов позволяет увеличить разнообразие данных, на которых модель обучается. Это может помочь модели лучше обобщать и обрабатывать различные типы запросов или задач.\n",
        "\n",
        "2. Улучшение общей производительности: Обучение модели на большем количестве данных может привести к улучшению ее общей производительности. Больший объем данных позволяет модели выявлять более сложные зависимости и шаблоны в данных, что может привести к лучшим результатам при выполнении различных задач.\n",
        "\n",
        "В целом, обучение окончательной версии модели на всех доступных данных является стратегией, которая может помочь улучшить производительность, обобщающую способность и стабильность модели при выполнении различных задач."
      ],
      "metadata": {
        "id": "6jz11JPn7i3j"
      }
    },
    {
      "cell_type": "code",
      "source": [
        "total_df = pd.concat([df, df_test, df_val], axis=0)"
      ],
      "metadata": {
        "id": "JgsyPDVD6su-"
      },
      "execution_count": 7,
      "outputs": []
    },
    {
      "cell_type": "code",
      "source": [
        "vectorizer = TfidfVectorizer(ngram_range=(1,2))\n",
        "total_train = vectorizer.fit_transform(total_df['review'])"
      ],
      "metadata": {
        "id": "nM8ljgJa6vVr"
      },
      "execution_count": 8,
      "outputs": []
    },
    {
      "cell_type": "code",
      "source": [
        "model = LogisticRegression(C=10, class_weight='balanced',solver='saga', max_iter=1500)\n",
        "model.fit(total_train, total_df['label'])"
      ],
      "metadata": {
        "colab": {
          "base_uri": "https://localhost:8080/",
          "height": 75
        },
        "id": "WpWUQQLO61Cq",
        "outputId": "2ed8efaa-04a2-47e2-d70b-47d066c966c0"
      },
      "execution_count": 9,
      "outputs": [
        {
          "output_type": "execute_result",
          "data": {
            "text/plain": [
              "LogisticRegression(C=10, class_weight='balanced', max_iter=1500, solver='saga')"
            ],
            "text/html": [
              "<style>#sk-container-id-1 {color: black;background-color: white;}#sk-container-id-1 pre{padding: 0;}#sk-container-id-1 div.sk-toggleable {background-color: white;}#sk-container-id-1 label.sk-toggleable__label {cursor: pointer;display: block;width: 100%;margin-bottom: 0;padding: 0.3em;box-sizing: border-box;text-align: center;}#sk-container-id-1 label.sk-toggleable__label-arrow:before {content: \"▸\";float: left;margin-right: 0.25em;color: #696969;}#sk-container-id-1 label.sk-toggleable__label-arrow:hover:before {color: black;}#sk-container-id-1 div.sk-estimator:hover label.sk-toggleable__label-arrow:before {color: black;}#sk-container-id-1 div.sk-toggleable__content {max-height: 0;max-width: 0;overflow: hidden;text-align: left;background-color: #f0f8ff;}#sk-container-id-1 div.sk-toggleable__content pre {margin: 0.2em;color: black;border-radius: 0.25em;background-color: #f0f8ff;}#sk-container-id-1 input.sk-toggleable__control:checked~div.sk-toggleable__content {max-height: 200px;max-width: 100%;overflow: auto;}#sk-container-id-1 input.sk-toggleable__control:checked~label.sk-toggleable__label-arrow:before {content: \"▾\";}#sk-container-id-1 div.sk-estimator input.sk-toggleable__control:checked~label.sk-toggleable__label {background-color: #d4ebff;}#sk-container-id-1 div.sk-label input.sk-toggleable__control:checked~label.sk-toggleable__label {background-color: #d4ebff;}#sk-container-id-1 input.sk-hidden--visually {border: 0;clip: rect(1px 1px 1px 1px);clip: rect(1px, 1px, 1px, 1px);height: 1px;margin: -1px;overflow: hidden;padding: 0;position: absolute;width: 1px;}#sk-container-id-1 div.sk-estimator {font-family: monospace;background-color: #f0f8ff;border: 1px dotted black;border-radius: 0.25em;box-sizing: border-box;margin-bottom: 0.5em;}#sk-container-id-1 div.sk-estimator:hover {background-color: #d4ebff;}#sk-container-id-1 div.sk-parallel-item::after {content: \"\";width: 100%;border-bottom: 1px solid gray;flex-grow: 1;}#sk-container-id-1 div.sk-label:hover label.sk-toggleable__label {background-color: #d4ebff;}#sk-container-id-1 div.sk-serial::before {content: \"\";position: absolute;border-left: 1px solid gray;box-sizing: border-box;top: 0;bottom: 0;left: 50%;z-index: 0;}#sk-container-id-1 div.sk-serial {display: flex;flex-direction: column;align-items: center;background-color: white;padding-right: 0.2em;padding-left: 0.2em;position: relative;}#sk-container-id-1 div.sk-item {position: relative;z-index: 1;}#sk-container-id-1 div.sk-parallel {display: flex;align-items: stretch;justify-content: center;background-color: white;position: relative;}#sk-container-id-1 div.sk-item::before, #sk-container-id-1 div.sk-parallel-item::before {content: \"\";position: absolute;border-left: 1px solid gray;box-sizing: border-box;top: 0;bottom: 0;left: 50%;z-index: -1;}#sk-container-id-1 div.sk-parallel-item {display: flex;flex-direction: column;z-index: 1;position: relative;background-color: white;}#sk-container-id-1 div.sk-parallel-item:first-child::after {align-self: flex-end;width: 50%;}#sk-container-id-1 div.sk-parallel-item:last-child::after {align-self: flex-start;width: 50%;}#sk-container-id-1 div.sk-parallel-item:only-child::after {width: 0;}#sk-container-id-1 div.sk-dashed-wrapped {border: 1px dashed gray;margin: 0 0.4em 0.5em 0.4em;box-sizing: border-box;padding-bottom: 0.4em;background-color: white;}#sk-container-id-1 div.sk-label label {font-family: monospace;font-weight: bold;display: inline-block;line-height: 1.2em;}#sk-container-id-1 div.sk-label-container {text-align: center;}#sk-container-id-1 div.sk-container {/* jupyter's `normalize.less` sets `[hidden] { display: none; }` but bootstrap.min.css set `[hidden] { display: none !important; }` so we also need the `!important` here to be able to override the default hidden behavior on the sphinx rendered scikit-learn.org. See: https://github.com/scikit-learn/scikit-learn/issues/21755 */display: inline-block !important;position: relative;}#sk-container-id-1 div.sk-text-repr-fallback {display: none;}</style><div id=\"sk-container-id-1\" class=\"sk-top-container\"><div class=\"sk-text-repr-fallback\"><pre>LogisticRegression(C=10, class_weight=&#x27;balanced&#x27;, max_iter=1500, solver=&#x27;saga&#x27;)</pre><b>In a Jupyter environment, please rerun this cell to show the HTML representation or trust the notebook. <br />On GitHub, the HTML representation is unable to render, please try loading this page with nbviewer.org.</b></div><div class=\"sk-container\" hidden><div class=\"sk-item\"><div class=\"sk-estimator sk-toggleable\"><input class=\"sk-toggleable__control sk-hidden--visually\" id=\"sk-estimator-id-1\" type=\"checkbox\" checked><label for=\"sk-estimator-id-1\" class=\"sk-toggleable__label sk-toggleable__label-arrow\">LogisticRegression</label><div class=\"sk-toggleable__content\"><pre>LogisticRegression(C=10, class_weight=&#x27;balanced&#x27;, max_iter=1500, solver=&#x27;saga&#x27;)</pre></div></div></div></div></div>"
            ]
          },
          "metadata": {},
          "execution_count": 9
        }
      ]
    },
    {
      "cell_type": "markdown",
      "source": [
        "Сохраняем модель в pickle"
      ],
      "metadata": {
        "id": "8sYgGqANJMcO"
      }
    },
    {
      "cell_type": "code",
      "source": [
        "import pickle\n",
        "\n",
        "with open('model.pkl', 'wb') as f:\n",
        "    pickle.dump(model, f)"
      ],
      "metadata": {
        "id": "nQf32fB3JQ4n"
      },
      "execution_count": null,
      "outputs": []
    },
    {
      "cell_type": "markdown",
      "source": [
        "Сохраняем векторизатор в pickle"
      ],
      "metadata": {
        "id": "FFZkhmGByEj9"
      }
    },
    {
      "cell_type": "code",
      "source": [
        "with open('vectorizer.pkl', 'wb') as f:\n",
        "    pickle.dump(vectorizer, f)"
      ],
      "metadata": {
        "id": "MzNcX2T6yJTL"
      },
      "execution_count": null,
      "outputs": []
    },
    {
      "cell_type": "markdown",
      "source": [
        "Сохраняем feature names"
      ],
      "metadata": {
        "id": "7-IWDRIozIkN"
      }
    },
    {
      "cell_type": "code",
      "source": [
        "feature_names = vectorizer.get_feature_names_out()\n",
        "np.save('feature_names.npy', feature_names)"
      ],
      "metadata": {
        "id": "dTieGohXzIPb"
      },
      "execution_count": null,
      "outputs": []
    },
    {
      "cell_type": "markdown",
      "source": [
        "## Примеры работы модели"
      ],
      "metadata": {
        "id": "v6UJNqI27PZf"
      }
    },
    {
      "cell_type": "markdown",
      "source": [
        "Посмотрим на самые важные слова для модели при определении положительных и отрицательных отызвов."
      ],
      "metadata": {
        "id": "uZzCO-8eIcfG"
      }
    },
    {
      "cell_type": "code",
      "source": [
        "feature_names = vectorizer.get_feature_names_out()\n",
        "np.save('feature_names.npy', feature_names)\n",
        "\n",
        "coefficients = model.coef_[0]\n",
        "important_words = pd.DataFrame({'word': feature_names, 'coefficient': coefficients})\n",
        "important_words = important_words.sort_values(by='coefficient', ascending=False)\n",
        "\n",
        "print(\"Top positive words:\")\n",
        "print(important_words.head(10))\n",
        "\n",
        "print(\"Top negative words:\")\n",
        "print(important_words.tail(10))"
      ],
      "metadata": {
        "colab": {
          "base_uri": "https://localhost:8080/"
        },
        "id": "EdKgW3iQUZKu",
        "outputId": "44db6db3-04c4-41aa-e829-42fd3d5db4c9"
      },
      "execution_count": null,
      "outputs": [
        {
          "output_type": "stream",
          "name": "stdout",
          "text": [
            "Top positive words:\n",
            "                 word  coefficient\n",
            "1011183     excellent    23.177288\n",
            "1664413    magnifique    19.949082\n",
            "2702316       superbe    17.176937\n",
            "2015261       pas mal    14.975856\n",
            "2859991      très bon    13.778212\n",
            "263733       bon film    13.759377\n",
            "1990762  parfaitement    12.910640\n",
            "1240539        génial    12.813046\n",
            "1737289     merveille    12.600889\n",
            "1989548       parfait    12.295889\n",
            "Top negative words:\n",
            "              word  coefficient\n",
            "2400067       rien   -14.912549\n",
            "2398239   ridicule   -15.332302\n",
            "824693    décevant   -15.403648\n",
            "2124752        plv   -15.733717\n",
            "1911656        nul   -15.784441\n",
            "824074   déception   -17.640367\n",
            "1386245    intérêt   -18.450239\n",
            "1859128      navet   -18.645419\n",
            "1716689    mauvais   -20.261444\n",
            "932378    ennuyeux   -20.412900\n"
          ]
        }
      ]
    },
    {
      "cell_type": "markdown",
      "source": [
        "Теперь рассмотрим как предсказывать тональность одного отзыва (моделируем ситуацию использования бота)."
      ],
      "metadata": {
        "id": "-zofpPGJInAU"
      }
    },
    {
      "cell_type": "code",
      "source": [
        "def predict_sentiment(model, vectorizer, text):\n",
        "    preprocessed_text = preprocess_text(text)\n",
        "    text_vector = vectorizer.transform([preprocessed_text])\n",
        "    probability = model.predict_proba(text_vector)[:, 1]\n",
        "    line = str(str(*probability * 100)[:5]) + '%'\n",
        "\n",
        "    return line"
      ],
      "metadata": {
        "id": "khImuEmM-DTP"
      },
      "execution_count": 34,
      "outputs": []
    },
    {
      "cell_type": "code",
      "source": [
        "predict_sentiment(model, vectorizer, \"C'est un film mauvais imprégné de haine! Je refuse de regarder ça.\")"
      ],
      "metadata": {
        "colab": {
          "base_uri": "https://localhost:8080/",
          "height": 35
        },
        "id": "_2axt7O6-Sov",
        "outputId": "3966072b-d199-44b2-ac64-ef2f9b8353e1"
      },
      "execution_count": 35,
      "outputs": [
        {
          "output_type": "execute_result",
          "data": {
            "text/plain": [
              "'8.319%'"
            ],
            "application/vnd.google.colaboratory.intrinsic+json": {
              "type": "string"
            }
          },
          "metadata": {},
          "execution_count": 35
        }
      ]
    },
    {
      "cell_type": "markdown",
      "source": [
        "Вот слова, котоые показались модели самыми важными при определении тональности."
      ],
      "metadata": {
        "id": "FbS3_WJkIx57"
      }
    },
    {
      "cell_type": "code",
      "source": [
        "text_vector = vectorizer.transform([preprocess_text(\"C'est un film mauvais imprégné de haine! Je refuse de regarder ça.\")])\n",
        "\n",
        "contributions = text_vector.multiply(model.coef_[0])\n",
        "\n",
        "feature_names = vectorizer.get_feature_names_out()\n",
        "\n",
        "import pandas as pd\n",
        "contributions_df = pd.DataFrame({'Feature': feature_names, 'Contribution': contributions.toarray()[0]})\n",
        "contributions_df = contributions_df.sort_values(by='Contribution', ascending=False)\n",
        "\n",
        "print(list(contributions_df.tail(2)['Feature']))"
      ],
      "metadata": {
        "colab": {
          "base_uri": "https://localhost:8080/"
        },
        "id": "dEhKDaWY_Pw5",
        "outputId": "cda4c3c1-296a-4bb9-bada-244e3de4319a"
      },
      "execution_count": 40,
      "outputs": [
        {
          "output_type": "stream",
          "name": "stdout",
          "text": [
            "['regarder', 'mauvais']\n"
          ]
        }
      ]
    },
    {
      "cell_type": "code",
      "source": [
        "print(list(contributions_df.head(2)['Feature']))"
      ],
      "metadata": {
        "colab": {
          "base_uri": "https://localhost:8080/"
        },
        "id": "XjuU3pM1lyzh",
        "outputId": "7ecab216-c243-401b-d3a2-c525dea2003d"
      },
      "execution_count": 19,
      "outputs": [
        {
          "output_type": "stream",
          "name": "stdout",
          "text": [
            "['beau film', 'beau']\n"
          ]
        }
      ]
    }
  ],
  "metadata": {
    "colab": {
      "provenance": [],
      "collapsed_sections": [
        "H7TzpVY46KpI",
        "IJhMIkxM6QNk",
        "Byl12sol6SWm",
        "WoI27vHP6VOA",
        "hJ24awK36o2h",
        "v6UJNqI27PZf"
      ]
    },
    "kernelspec": {
      "display_name": "Python 3",
      "name": "python3"
    },
    "language_info": {
      "name": "python"
    },
    "widgets": {
      "application/vnd.jupyter.widget-state+json": {
        "168569473f0142ccb331ce36e445623d": {
          "model_module": "@jupyter-widgets/controls",
          "model_name": "HBoxModel",
          "model_module_version": "1.5.0",
          "state": {
            "_dom_classes": [],
            "_model_module": "@jupyter-widgets/controls",
            "_model_module_version": "1.5.0",
            "_model_name": "HBoxModel",
            "_view_count": null,
            "_view_module": "@jupyter-widgets/controls",
            "_view_module_version": "1.5.0",
            "_view_name": "HBoxView",
            "box_style": "",
            "children": [
              "IPY_MODEL_73ff1fd5bd25476aaf077a89fb71fe89",
              "IPY_MODEL_d0444258f7ac43a99d5c20648a2d1e8a",
              "IPY_MODEL_36596fbd3e884fcc80feca3d2f97e898"
            ],
            "layout": "IPY_MODEL_ea3511b8f9b1498db57b8cc184dd6a0f"
          }
        },
        "73ff1fd5bd25476aaf077a89fb71fe89": {
          "model_module": "@jupyter-widgets/controls",
          "model_name": "HTMLModel",
          "model_module_version": "1.5.0",
          "state": {
            "_dom_classes": [],
            "_model_module": "@jupyter-widgets/controls",
            "_model_module_version": "1.5.0",
            "_model_name": "HTMLModel",
            "_view_count": null,
            "_view_module": "@jupyter-widgets/controls",
            "_view_module_version": "1.5.0",
            "_view_name": "HTMLView",
            "description": "",
            "description_tooltip": null,
            "layout": "IPY_MODEL_39686b5cfcfb4e08a1c43e65e18d40e3",
            "placeholder": "​",
            "style": "IPY_MODEL_8119a619c672495b856ef044d1d313c2",
            "value": "Downloading readme: 100%"
          }
        },
        "d0444258f7ac43a99d5c20648a2d1e8a": {
          "model_module": "@jupyter-widgets/controls",
          "model_name": "FloatProgressModel",
          "model_module_version": "1.5.0",
          "state": {
            "_dom_classes": [],
            "_model_module": "@jupyter-widgets/controls",
            "_model_module_version": "1.5.0",
            "_model_name": "FloatProgressModel",
            "_view_count": null,
            "_view_module": "@jupyter-widgets/controls",
            "_view_module_version": "1.5.0",
            "_view_name": "ProgressView",
            "bar_style": "success",
            "description": "",
            "description_tooltip": null,
            "layout": "IPY_MODEL_34f85873adc941dca8e21fa63c67f444",
            "max": 9314,
            "min": 0,
            "orientation": "horizontal",
            "style": "IPY_MODEL_65263e1ddfcd4e3a898018846aed982b",
            "value": 9314
          }
        },
        "36596fbd3e884fcc80feca3d2f97e898": {
          "model_module": "@jupyter-widgets/controls",
          "model_name": "HTMLModel",
          "model_module_version": "1.5.0",
          "state": {
            "_dom_classes": [],
            "_model_module": "@jupyter-widgets/controls",
            "_model_module_version": "1.5.0",
            "_model_name": "HTMLModel",
            "_view_count": null,
            "_view_module": "@jupyter-widgets/controls",
            "_view_module_version": "1.5.0",
            "_view_name": "HTMLView",
            "description": "",
            "description_tooltip": null,
            "layout": "IPY_MODEL_8c223b4f05df4742b58b63d649c10081",
            "placeholder": "​",
            "style": "IPY_MODEL_933378326e094af1bee8971a638f1c60",
            "value": " 9.31k/9.31k [00:00&lt;00:00, 131kB/s]"
          }
        },
        "ea3511b8f9b1498db57b8cc184dd6a0f": {
          "model_module": "@jupyter-widgets/base",
          "model_name": "LayoutModel",
          "model_module_version": "1.2.0",
          "state": {
            "_model_module": "@jupyter-widgets/base",
            "_model_module_version": "1.2.0",
            "_model_name": "LayoutModel",
            "_view_count": null,
            "_view_module": "@jupyter-widgets/base",
            "_view_module_version": "1.2.0",
            "_view_name": "LayoutView",
            "align_content": null,
            "align_items": null,
            "align_self": null,
            "border": null,
            "bottom": null,
            "display": null,
            "flex": null,
            "flex_flow": null,
            "grid_area": null,
            "grid_auto_columns": null,
            "grid_auto_flow": null,
            "grid_auto_rows": null,
            "grid_column": null,
            "grid_gap": null,
            "grid_row": null,
            "grid_template_areas": null,
            "grid_template_columns": null,
            "grid_template_rows": null,
            "height": null,
            "justify_content": null,
            "justify_items": null,
            "left": null,
            "margin": null,
            "max_height": null,
            "max_width": null,
            "min_height": null,
            "min_width": null,
            "object_fit": null,
            "object_position": null,
            "order": null,
            "overflow": null,
            "overflow_x": null,
            "overflow_y": null,
            "padding": null,
            "right": null,
            "top": null,
            "visibility": null,
            "width": null
          }
        },
        "39686b5cfcfb4e08a1c43e65e18d40e3": {
          "model_module": "@jupyter-widgets/base",
          "model_name": "LayoutModel",
          "model_module_version": "1.2.0",
          "state": {
            "_model_module": "@jupyter-widgets/base",
            "_model_module_version": "1.2.0",
            "_model_name": "LayoutModel",
            "_view_count": null,
            "_view_module": "@jupyter-widgets/base",
            "_view_module_version": "1.2.0",
            "_view_name": "LayoutView",
            "align_content": null,
            "align_items": null,
            "align_self": null,
            "border": null,
            "bottom": null,
            "display": null,
            "flex": null,
            "flex_flow": null,
            "grid_area": null,
            "grid_auto_columns": null,
            "grid_auto_flow": null,
            "grid_auto_rows": null,
            "grid_column": null,
            "grid_gap": null,
            "grid_row": null,
            "grid_template_areas": null,
            "grid_template_columns": null,
            "grid_template_rows": null,
            "height": null,
            "justify_content": null,
            "justify_items": null,
            "left": null,
            "margin": null,
            "max_height": null,
            "max_width": null,
            "min_height": null,
            "min_width": null,
            "object_fit": null,
            "object_position": null,
            "order": null,
            "overflow": null,
            "overflow_x": null,
            "overflow_y": null,
            "padding": null,
            "right": null,
            "top": null,
            "visibility": null,
            "width": null
          }
        },
        "8119a619c672495b856ef044d1d313c2": {
          "model_module": "@jupyter-widgets/controls",
          "model_name": "DescriptionStyleModel",
          "model_module_version": "1.5.0",
          "state": {
            "_model_module": "@jupyter-widgets/controls",
            "_model_module_version": "1.5.0",
            "_model_name": "DescriptionStyleModel",
            "_view_count": null,
            "_view_module": "@jupyter-widgets/base",
            "_view_module_version": "1.2.0",
            "_view_name": "StyleView",
            "description_width": ""
          }
        },
        "34f85873adc941dca8e21fa63c67f444": {
          "model_module": "@jupyter-widgets/base",
          "model_name": "LayoutModel",
          "model_module_version": "1.2.0",
          "state": {
            "_model_module": "@jupyter-widgets/base",
            "_model_module_version": "1.2.0",
            "_model_name": "LayoutModel",
            "_view_count": null,
            "_view_module": "@jupyter-widgets/base",
            "_view_module_version": "1.2.0",
            "_view_name": "LayoutView",
            "align_content": null,
            "align_items": null,
            "align_self": null,
            "border": null,
            "bottom": null,
            "display": null,
            "flex": null,
            "flex_flow": null,
            "grid_area": null,
            "grid_auto_columns": null,
            "grid_auto_flow": null,
            "grid_auto_rows": null,
            "grid_column": null,
            "grid_gap": null,
            "grid_row": null,
            "grid_template_areas": null,
            "grid_template_columns": null,
            "grid_template_rows": null,
            "height": null,
            "justify_content": null,
            "justify_items": null,
            "left": null,
            "margin": null,
            "max_height": null,
            "max_width": null,
            "min_height": null,
            "min_width": null,
            "object_fit": null,
            "object_position": null,
            "order": null,
            "overflow": null,
            "overflow_x": null,
            "overflow_y": null,
            "padding": null,
            "right": null,
            "top": null,
            "visibility": null,
            "width": null
          }
        },
        "65263e1ddfcd4e3a898018846aed982b": {
          "model_module": "@jupyter-widgets/controls",
          "model_name": "ProgressStyleModel",
          "model_module_version": "1.5.0",
          "state": {
            "_model_module": "@jupyter-widgets/controls",
            "_model_module_version": "1.5.0",
            "_model_name": "ProgressStyleModel",
            "_view_count": null,
            "_view_module": "@jupyter-widgets/base",
            "_view_module_version": "1.2.0",
            "_view_name": "StyleView",
            "bar_color": null,
            "description_width": ""
          }
        },
        "8c223b4f05df4742b58b63d649c10081": {
          "model_module": "@jupyter-widgets/base",
          "model_name": "LayoutModel",
          "model_module_version": "1.2.0",
          "state": {
            "_model_module": "@jupyter-widgets/base",
            "_model_module_version": "1.2.0",
            "_model_name": "LayoutModel",
            "_view_count": null,
            "_view_module": "@jupyter-widgets/base",
            "_view_module_version": "1.2.0",
            "_view_name": "LayoutView",
            "align_content": null,
            "align_items": null,
            "align_self": null,
            "border": null,
            "bottom": null,
            "display": null,
            "flex": null,
            "flex_flow": null,
            "grid_area": null,
            "grid_auto_columns": null,
            "grid_auto_flow": null,
            "grid_auto_rows": null,
            "grid_column": null,
            "grid_gap": null,
            "grid_row": null,
            "grid_template_areas": null,
            "grid_template_columns": null,
            "grid_template_rows": null,
            "height": null,
            "justify_content": null,
            "justify_items": null,
            "left": null,
            "margin": null,
            "max_height": null,
            "max_width": null,
            "min_height": null,
            "min_width": null,
            "object_fit": null,
            "object_position": null,
            "order": null,
            "overflow": null,
            "overflow_x": null,
            "overflow_y": null,
            "padding": null,
            "right": null,
            "top": null,
            "visibility": null,
            "width": null
          }
        },
        "933378326e094af1bee8971a638f1c60": {
          "model_module": "@jupyter-widgets/controls",
          "model_name": "DescriptionStyleModel",
          "model_module_version": "1.5.0",
          "state": {
            "_model_module": "@jupyter-widgets/controls",
            "_model_module_version": "1.5.0",
            "_model_name": "DescriptionStyleModel",
            "_view_count": null,
            "_view_module": "@jupyter-widgets/base",
            "_view_module_version": "1.2.0",
            "_view_name": "StyleView",
            "description_width": ""
          }
        },
        "f389ab544f1c43aab57e6e77b6d2f21e": {
          "model_module": "@jupyter-widgets/controls",
          "model_name": "HBoxModel",
          "model_module_version": "1.5.0",
          "state": {
            "_dom_classes": [],
            "_model_module": "@jupyter-widgets/controls",
            "_model_module_version": "1.5.0",
            "_model_name": "HBoxModel",
            "_view_count": null,
            "_view_module": "@jupyter-widgets/controls",
            "_view_module_version": "1.5.0",
            "_view_name": "HBoxView",
            "box_style": "",
            "children": [
              "IPY_MODEL_512a72e9603f4202872e54b901fd6cd8",
              "IPY_MODEL_bbf89e84cf5f4d0c89e2fa60c2bf56b5",
              "IPY_MODEL_7ff0e9a91953499ca1cedce6a51f641e"
            ],
            "layout": "IPY_MODEL_0fadc88f6018429a9cfa5bb45b15ba64"
          }
        },
        "512a72e9603f4202872e54b901fd6cd8": {
          "model_module": "@jupyter-widgets/controls",
          "model_name": "HTMLModel",
          "model_module_version": "1.5.0",
          "state": {
            "_dom_classes": [],
            "_model_module": "@jupyter-widgets/controls",
            "_model_module_version": "1.5.0",
            "_model_name": "HTMLModel",
            "_view_count": null,
            "_view_module": "@jupyter-widgets/controls",
            "_view_module_version": "1.5.0",
            "_view_name": "HTMLView",
            "description": "",
            "description_tooltip": null,
            "layout": "IPY_MODEL_27cdb9e40aa1424c831d6dea59589d51",
            "placeholder": "​",
            "style": "IPY_MODEL_377c93ecada64f35ac736d13ba0480ce",
            "value": "Downloading data: 100%"
          }
        },
        "bbf89e84cf5f4d0c89e2fa60c2bf56b5": {
          "model_module": "@jupyter-widgets/controls",
          "model_name": "FloatProgressModel",
          "model_module_version": "1.5.0",
          "state": {
            "_dom_classes": [],
            "_model_module": "@jupyter-widgets/controls",
            "_model_module_version": "1.5.0",
            "_model_name": "FloatProgressModel",
            "_view_count": null,
            "_view_module": "@jupyter-widgets/controls",
            "_view_module_version": "1.5.0",
            "_view_name": "ProgressView",
            "bar_style": "success",
            "description": "",
            "description_tooltip": null,
            "layout": "IPY_MODEL_1f6b93b60f634a44b837922b42c0692d",
            "max": 59970147,
            "min": 0,
            "orientation": "horizontal",
            "style": "IPY_MODEL_fd685a3738f84749809a89cfb3159845",
            "value": 59970147
          }
        },
        "7ff0e9a91953499ca1cedce6a51f641e": {
          "model_module": "@jupyter-widgets/controls",
          "model_name": "HTMLModel",
          "model_module_version": "1.5.0",
          "state": {
            "_dom_classes": [],
            "_model_module": "@jupyter-widgets/controls",
            "_model_module_version": "1.5.0",
            "_model_name": "HTMLModel",
            "_view_count": null,
            "_view_module": "@jupyter-widgets/controls",
            "_view_module_version": "1.5.0",
            "_view_name": "HTMLView",
            "description": "",
            "description_tooltip": null,
            "layout": "IPY_MODEL_a1cfe6b0f9104f6fa0d879757c558669",
            "placeholder": "​",
            "style": "IPY_MODEL_102f411ead6248cdad150304b85fdae7",
            "value": " 60.0M/60.0M [00:01&lt;00:00, 44.0MB/s]"
          }
        },
        "0fadc88f6018429a9cfa5bb45b15ba64": {
          "model_module": "@jupyter-widgets/base",
          "model_name": "LayoutModel",
          "model_module_version": "1.2.0",
          "state": {
            "_model_module": "@jupyter-widgets/base",
            "_model_module_version": "1.2.0",
            "_model_name": "LayoutModel",
            "_view_count": null,
            "_view_module": "@jupyter-widgets/base",
            "_view_module_version": "1.2.0",
            "_view_name": "LayoutView",
            "align_content": null,
            "align_items": null,
            "align_self": null,
            "border": null,
            "bottom": null,
            "display": null,
            "flex": null,
            "flex_flow": null,
            "grid_area": null,
            "grid_auto_columns": null,
            "grid_auto_flow": null,
            "grid_auto_rows": null,
            "grid_column": null,
            "grid_gap": null,
            "grid_row": null,
            "grid_template_areas": null,
            "grid_template_columns": null,
            "grid_template_rows": null,
            "height": null,
            "justify_content": null,
            "justify_items": null,
            "left": null,
            "margin": null,
            "max_height": null,
            "max_width": null,
            "min_height": null,
            "min_width": null,
            "object_fit": null,
            "object_position": null,
            "order": null,
            "overflow": null,
            "overflow_x": null,
            "overflow_y": null,
            "padding": null,
            "right": null,
            "top": null,
            "visibility": null,
            "width": null
          }
        },
        "27cdb9e40aa1424c831d6dea59589d51": {
          "model_module": "@jupyter-widgets/base",
          "model_name": "LayoutModel",
          "model_module_version": "1.2.0",
          "state": {
            "_model_module": "@jupyter-widgets/base",
            "_model_module_version": "1.2.0",
            "_model_name": "LayoutModel",
            "_view_count": null,
            "_view_module": "@jupyter-widgets/base",
            "_view_module_version": "1.2.0",
            "_view_name": "LayoutView",
            "align_content": null,
            "align_items": null,
            "align_self": null,
            "border": null,
            "bottom": null,
            "display": null,
            "flex": null,
            "flex_flow": null,
            "grid_area": null,
            "grid_auto_columns": null,
            "grid_auto_flow": null,
            "grid_auto_rows": null,
            "grid_column": null,
            "grid_gap": null,
            "grid_row": null,
            "grid_template_areas": null,
            "grid_template_columns": null,
            "grid_template_rows": null,
            "height": null,
            "justify_content": null,
            "justify_items": null,
            "left": null,
            "margin": null,
            "max_height": null,
            "max_width": null,
            "min_height": null,
            "min_width": null,
            "object_fit": null,
            "object_position": null,
            "order": null,
            "overflow": null,
            "overflow_x": null,
            "overflow_y": null,
            "padding": null,
            "right": null,
            "top": null,
            "visibility": null,
            "width": null
          }
        },
        "377c93ecada64f35ac736d13ba0480ce": {
          "model_module": "@jupyter-widgets/controls",
          "model_name": "DescriptionStyleModel",
          "model_module_version": "1.5.0",
          "state": {
            "_model_module": "@jupyter-widgets/controls",
            "_model_module_version": "1.5.0",
            "_model_name": "DescriptionStyleModel",
            "_view_count": null,
            "_view_module": "@jupyter-widgets/base",
            "_view_module_version": "1.2.0",
            "_view_name": "StyleView",
            "description_width": ""
          }
        },
        "1f6b93b60f634a44b837922b42c0692d": {
          "model_module": "@jupyter-widgets/base",
          "model_name": "LayoutModel",
          "model_module_version": "1.2.0",
          "state": {
            "_model_module": "@jupyter-widgets/base",
            "_model_module_version": "1.2.0",
            "_model_name": "LayoutModel",
            "_view_count": null,
            "_view_module": "@jupyter-widgets/base",
            "_view_module_version": "1.2.0",
            "_view_name": "LayoutView",
            "align_content": null,
            "align_items": null,
            "align_self": null,
            "border": null,
            "bottom": null,
            "display": null,
            "flex": null,
            "flex_flow": null,
            "grid_area": null,
            "grid_auto_columns": null,
            "grid_auto_flow": null,
            "grid_auto_rows": null,
            "grid_column": null,
            "grid_gap": null,
            "grid_row": null,
            "grid_template_areas": null,
            "grid_template_columns": null,
            "grid_template_rows": null,
            "height": null,
            "justify_content": null,
            "justify_items": null,
            "left": null,
            "margin": null,
            "max_height": null,
            "max_width": null,
            "min_height": null,
            "min_width": null,
            "object_fit": null,
            "object_position": null,
            "order": null,
            "overflow": null,
            "overflow_x": null,
            "overflow_y": null,
            "padding": null,
            "right": null,
            "top": null,
            "visibility": null,
            "width": null
          }
        },
        "fd685a3738f84749809a89cfb3159845": {
          "model_module": "@jupyter-widgets/controls",
          "model_name": "ProgressStyleModel",
          "model_module_version": "1.5.0",
          "state": {
            "_model_module": "@jupyter-widgets/controls",
            "_model_module_version": "1.5.0",
            "_model_name": "ProgressStyleModel",
            "_view_count": null,
            "_view_module": "@jupyter-widgets/base",
            "_view_module_version": "1.2.0",
            "_view_name": "StyleView",
            "bar_color": null,
            "description_width": ""
          }
        },
        "a1cfe6b0f9104f6fa0d879757c558669": {
          "model_module": "@jupyter-widgets/base",
          "model_name": "LayoutModel",
          "model_module_version": "1.2.0",
          "state": {
            "_model_module": "@jupyter-widgets/base",
            "_model_module_version": "1.2.0",
            "_model_name": "LayoutModel",
            "_view_count": null,
            "_view_module": "@jupyter-widgets/base",
            "_view_module_version": "1.2.0",
            "_view_name": "LayoutView",
            "align_content": null,
            "align_items": null,
            "align_self": null,
            "border": null,
            "bottom": null,
            "display": null,
            "flex": null,
            "flex_flow": null,
            "grid_area": null,
            "grid_auto_columns": null,
            "grid_auto_flow": null,
            "grid_auto_rows": null,
            "grid_column": null,
            "grid_gap": null,
            "grid_row": null,
            "grid_template_areas": null,
            "grid_template_columns": null,
            "grid_template_rows": null,
            "height": null,
            "justify_content": null,
            "justify_items": null,
            "left": null,
            "margin": null,
            "max_height": null,
            "max_width": null,
            "min_height": null,
            "min_width": null,
            "object_fit": null,
            "object_position": null,
            "order": null,
            "overflow": null,
            "overflow_x": null,
            "overflow_y": null,
            "padding": null,
            "right": null,
            "top": null,
            "visibility": null,
            "width": null
          }
        },
        "102f411ead6248cdad150304b85fdae7": {
          "model_module": "@jupyter-widgets/controls",
          "model_name": "DescriptionStyleModel",
          "model_module_version": "1.5.0",
          "state": {
            "_model_module": "@jupyter-widgets/controls",
            "_model_module_version": "1.5.0",
            "_model_name": "DescriptionStyleModel",
            "_view_count": null,
            "_view_module": "@jupyter-widgets/base",
            "_view_module_version": "1.2.0",
            "_view_name": "StyleView",
            "description_width": ""
          }
        },
        "c04fcfcaa7b645248b66905ff44135fb": {
          "model_module": "@jupyter-widgets/controls",
          "model_name": "HBoxModel",
          "model_module_version": "1.5.0",
          "state": {
            "_dom_classes": [],
            "_model_module": "@jupyter-widgets/controls",
            "_model_module_version": "1.5.0",
            "_model_name": "HBoxModel",
            "_view_count": null,
            "_view_module": "@jupyter-widgets/controls",
            "_view_module_version": "1.5.0",
            "_view_name": "HBoxView",
            "box_style": "",
            "children": [
              "IPY_MODEL_4946ab476507488899217e45a3e6259d",
              "IPY_MODEL_64a1b712c7a0458abd46f54f65b2be1f",
              "IPY_MODEL_afcad34747e245588ec91b5bf8274594"
            ],
            "layout": "IPY_MODEL_3f8a366e8257423c998f7b32e1f1f11b"
          }
        },
        "4946ab476507488899217e45a3e6259d": {
          "model_module": "@jupyter-widgets/controls",
          "model_name": "HTMLModel",
          "model_module_version": "1.5.0",
          "state": {
            "_dom_classes": [],
            "_model_module": "@jupyter-widgets/controls",
            "_model_module_version": "1.5.0",
            "_model_name": "HTMLModel",
            "_view_count": null,
            "_view_module": "@jupyter-widgets/controls",
            "_view_module_version": "1.5.0",
            "_view_name": "HTMLView",
            "description": "",
            "description_tooltip": null,
            "layout": "IPY_MODEL_8a455d0fb5e3460c90d65c642f2b97b5",
            "placeholder": "​",
            "style": "IPY_MODEL_c84ae9b326d54354997360d6f84bfb9a",
            "value": "Downloading data: 100%"
          }
        },
        "64a1b712c7a0458abd46f54f65b2be1f": {
          "model_module": "@jupyter-widgets/controls",
          "model_name": "FloatProgressModel",
          "model_module_version": "1.5.0",
          "state": {
            "_dom_classes": [],
            "_model_module": "@jupyter-widgets/controls",
            "_model_module_version": "1.5.0",
            "_model_name": "FloatProgressModel",
            "_view_count": null,
            "_view_module": "@jupyter-widgets/controls",
            "_view_module_version": "1.5.0",
            "_view_name": "ProgressView",
            "bar_style": "success",
            "description": "",
            "description_tooltip": null,
            "layout": "IPY_MODEL_5178bf336fc6476d8fc009e55e87e3b7",
            "max": 7575258,
            "min": 0,
            "orientation": "horizontal",
            "style": "IPY_MODEL_bfb43fd0e2c244b2a989b65460c4006e",
            "value": 7575258
          }
        },
        "afcad34747e245588ec91b5bf8274594": {
          "model_module": "@jupyter-widgets/controls",
          "model_name": "HTMLModel",
          "model_module_version": "1.5.0",
          "state": {
            "_dom_classes": [],
            "_model_module": "@jupyter-widgets/controls",
            "_model_module_version": "1.5.0",
            "_model_name": "HTMLModel",
            "_view_count": null,
            "_view_module": "@jupyter-widgets/controls",
            "_view_module_version": "1.5.0",
            "_view_name": "HTMLView",
            "description": "",
            "description_tooltip": null,
            "layout": "IPY_MODEL_761ff679ce0148419ec1fb6f7d3e6269",
            "placeholder": "​",
            "style": "IPY_MODEL_5e0682431ad6415eab422e32b1a63b09",
            "value": " 7.58M/7.58M [00:00&lt;00:00, 9.36MB/s]"
          }
        },
        "3f8a366e8257423c998f7b32e1f1f11b": {
          "model_module": "@jupyter-widgets/base",
          "model_name": "LayoutModel",
          "model_module_version": "1.2.0",
          "state": {
            "_model_module": "@jupyter-widgets/base",
            "_model_module_version": "1.2.0",
            "_model_name": "LayoutModel",
            "_view_count": null,
            "_view_module": "@jupyter-widgets/base",
            "_view_module_version": "1.2.0",
            "_view_name": "LayoutView",
            "align_content": null,
            "align_items": null,
            "align_self": null,
            "border": null,
            "bottom": null,
            "display": null,
            "flex": null,
            "flex_flow": null,
            "grid_area": null,
            "grid_auto_columns": null,
            "grid_auto_flow": null,
            "grid_auto_rows": null,
            "grid_column": null,
            "grid_gap": null,
            "grid_row": null,
            "grid_template_areas": null,
            "grid_template_columns": null,
            "grid_template_rows": null,
            "height": null,
            "justify_content": null,
            "justify_items": null,
            "left": null,
            "margin": null,
            "max_height": null,
            "max_width": null,
            "min_height": null,
            "min_width": null,
            "object_fit": null,
            "object_position": null,
            "order": null,
            "overflow": null,
            "overflow_x": null,
            "overflow_y": null,
            "padding": null,
            "right": null,
            "top": null,
            "visibility": null,
            "width": null
          }
        },
        "8a455d0fb5e3460c90d65c642f2b97b5": {
          "model_module": "@jupyter-widgets/base",
          "model_name": "LayoutModel",
          "model_module_version": "1.2.0",
          "state": {
            "_model_module": "@jupyter-widgets/base",
            "_model_module_version": "1.2.0",
            "_model_name": "LayoutModel",
            "_view_count": null,
            "_view_module": "@jupyter-widgets/base",
            "_view_module_version": "1.2.0",
            "_view_name": "LayoutView",
            "align_content": null,
            "align_items": null,
            "align_self": null,
            "border": null,
            "bottom": null,
            "display": null,
            "flex": null,
            "flex_flow": null,
            "grid_area": null,
            "grid_auto_columns": null,
            "grid_auto_flow": null,
            "grid_auto_rows": null,
            "grid_column": null,
            "grid_gap": null,
            "grid_row": null,
            "grid_template_areas": null,
            "grid_template_columns": null,
            "grid_template_rows": null,
            "height": null,
            "justify_content": null,
            "justify_items": null,
            "left": null,
            "margin": null,
            "max_height": null,
            "max_width": null,
            "min_height": null,
            "min_width": null,
            "object_fit": null,
            "object_position": null,
            "order": null,
            "overflow": null,
            "overflow_x": null,
            "overflow_y": null,
            "padding": null,
            "right": null,
            "top": null,
            "visibility": null,
            "width": null
          }
        },
        "c84ae9b326d54354997360d6f84bfb9a": {
          "model_module": "@jupyter-widgets/controls",
          "model_name": "DescriptionStyleModel",
          "model_module_version": "1.5.0",
          "state": {
            "_model_module": "@jupyter-widgets/controls",
            "_model_module_version": "1.5.0",
            "_model_name": "DescriptionStyleModel",
            "_view_count": null,
            "_view_module": "@jupyter-widgets/base",
            "_view_module_version": "1.2.0",
            "_view_name": "StyleView",
            "description_width": ""
          }
        },
        "5178bf336fc6476d8fc009e55e87e3b7": {
          "model_module": "@jupyter-widgets/base",
          "model_name": "LayoutModel",
          "model_module_version": "1.2.0",
          "state": {
            "_model_module": "@jupyter-widgets/base",
            "_model_module_version": "1.2.0",
            "_model_name": "LayoutModel",
            "_view_count": null,
            "_view_module": "@jupyter-widgets/base",
            "_view_module_version": "1.2.0",
            "_view_name": "LayoutView",
            "align_content": null,
            "align_items": null,
            "align_self": null,
            "border": null,
            "bottom": null,
            "display": null,
            "flex": null,
            "flex_flow": null,
            "grid_area": null,
            "grid_auto_columns": null,
            "grid_auto_flow": null,
            "grid_auto_rows": null,
            "grid_column": null,
            "grid_gap": null,
            "grid_row": null,
            "grid_template_areas": null,
            "grid_template_columns": null,
            "grid_template_rows": null,
            "height": null,
            "justify_content": null,
            "justify_items": null,
            "left": null,
            "margin": null,
            "max_height": null,
            "max_width": null,
            "min_height": null,
            "min_width": null,
            "object_fit": null,
            "object_position": null,
            "order": null,
            "overflow": null,
            "overflow_x": null,
            "overflow_y": null,
            "padding": null,
            "right": null,
            "top": null,
            "visibility": null,
            "width": null
          }
        },
        "bfb43fd0e2c244b2a989b65460c4006e": {
          "model_module": "@jupyter-widgets/controls",
          "model_name": "ProgressStyleModel",
          "model_module_version": "1.5.0",
          "state": {
            "_model_module": "@jupyter-widgets/controls",
            "_model_module_version": "1.5.0",
            "_model_name": "ProgressStyleModel",
            "_view_count": null,
            "_view_module": "@jupyter-widgets/base",
            "_view_module_version": "1.2.0",
            "_view_name": "StyleView",
            "bar_color": null,
            "description_width": ""
          }
        },
        "761ff679ce0148419ec1fb6f7d3e6269": {
          "model_module": "@jupyter-widgets/base",
          "model_name": "LayoutModel",
          "model_module_version": "1.2.0",
          "state": {
            "_model_module": "@jupyter-widgets/base",
            "_model_module_version": "1.2.0",
            "_model_name": "LayoutModel",
            "_view_count": null,
            "_view_module": "@jupyter-widgets/base",
            "_view_module_version": "1.2.0",
            "_view_name": "LayoutView",
            "align_content": null,
            "align_items": null,
            "align_self": null,
            "border": null,
            "bottom": null,
            "display": null,
            "flex": null,
            "flex_flow": null,
            "grid_area": null,
            "grid_auto_columns": null,
            "grid_auto_flow": null,
            "grid_auto_rows": null,
            "grid_column": null,
            "grid_gap": null,
            "grid_row": null,
            "grid_template_areas": null,
            "grid_template_columns": null,
            "grid_template_rows": null,
            "height": null,
            "justify_content": null,
            "justify_items": null,
            "left": null,
            "margin": null,
            "max_height": null,
            "max_width": null,
            "min_height": null,
            "min_width": null,
            "object_fit": null,
            "object_position": null,
            "order": null,
            "overflow": null,
            "overflow_x": null,
            "overflow_y": null,
            "padding": null,
            "right": null,
            "top": null,
            "visibility": null,
            "width": null
          }
        },
        "5e0682431ad6415eab422e32b1a63b09": {
          "model_module": "@jupyter-widgets/controls",
          "model_name": "DescriptionStyleModel",
          "model_module_version": "1.5.0",
          "state": {
            "_model_module": "@jupyter-widgets/controls",
            "_model_module_version": "1.5.0",
            "_model_name": "DescriptionStyleModel",
            "_view_count": null,
            "_view_module": "@jupyter-widgets/base",
            "_view_module_version": "1.2.0",
            "_view_name": "StyleView",
            "description_width": ""
          }
        },
        "ae13dd3b5b734e32adb16de114d9ce13": {
          "model_module": "@jupyter-widgets/controls",
          "model_name": "HBoxModel",
          "model_module_version": "1.5.0",
          "state": {
            "_dom_classes": [],
            "_model_module": "@jupyter-widgets/controls",
            "_model_module_version": "1.5.0",
            "_model_name": "HBoxModel",
            "_view_count": null,
            "_view_module": "@jupyter-widgets/controls",
            "_view_module_version": "1.5.0",
            "_view_name": "HBoxView",
            "box_style": "",
            "children": [
              "IPY_MODEL_4643a5db415846de8bd7ec72af70e936",
              "IPY_MODEL_631a6ed4145d434bb5616c06c2b38ba8",
              "IPY_MODEL_1f5435999a5f49ca9ca877da44eb8a27"
            ],
            "layout": "IPY_MODEL_1999c8f147804fe0b39360eab29e75f7"
          }
        },
        "4643a5db415846de8bd7ec72af70e936": {
          "model_module": "@jupyter-widgets/controls",
          "model_name": "HTMLModel",
          "model_module_version": "1.5.0",
          "state": {
            "_dom_classes": [],
            "_model_module": "@jupyter-widgets/controls",
            "_model_module_version": "1.5.0",
            "_model_name": "HTMLModel",
            "_view_count": null,
            "_view_module": "@jupyter-widgets/controls",
            "_view_module_version": "1.5.0",
            "_view_name": "HTMLView",
            "description": "",
            "description_tooltip": null,
            "layout": "IPY_MODEL_967692439ccd47828a603e5507741a3f",
            "placeholder": "​",
            "style": "IPY_MODEL_39a18208926a44709b8178e139c11057",
            "value": "Downloading data: 100%"
          }
        },
        "631a6ed4145d434bb5616c06c2b38ba8": {
          "model_module": "@jupyter-widgets/controls",
          "model_name": "FloatProgressModel",
          "model_module_version": "1.5.0",
          "state": {
            "_dom_classes": [],
            "_model_module": "@jupyter-widgets/controls",
            "_model_module_version": "1.5.0",
            "_model_name": "FloatProgressModel",
            "_view_count": null,
            "_view_module": "@jupyter-widgets/controls",
            "_view_module_version": "1.5.0",
            "_view_name": "ProgressView",
            "bar_style": "success",
            "description": "",
            "description_tooltip": null,
            "layout": "IPY_MODEL_e83baa42d84d461eab20b597faa88556",
            "max": 7580549,
            "min": 0,
            "orientation": "horizontal",
            "style": "IPY_MODEL_913d7e0d172140ffb95eeed0dcc6e62f",
            "value": 7580549
          }
        },
        "1f5435999a5f49ca9ca877da44eb8a27": {
          "model_module": "@jupyter-widgets/controls",
          "model_name": "HTMLModel",
          "model_module_version": "1.5.0",
          "state": {
            "_dom_classes": [],
            "_model_module": "@jupyter-widgets/controls",
            "_model_module_version": "1.5.0",
            "_model_name": "HTMLModel",
            "_view_count": null,
            "_view_module": "@jupyter-widgets/controls",
            "_view_module_version": "1.5.0",
            "_view_name": "HTMLView",
            "description": "",
            "description_tooltip": null,
            "layout": "IPY_MODEL_123883f412a64d3a99a938fc2927a627",
            "placeholder": "​",
            "style": "IPY_MODEL_9363017c38b543c180de146425ce4fd6",
            "value": " 7.58M/7.58M [00:00&lt;00:00, 8.38MB/s]"
          }
        },
        "1999c8f147804fe0b39360eab29e75f7": {
          "model_module": "@jupyter-widgets/base",
          "model_name": "LayoutModel",
          "model_module_version": "1.2.0",
          "state": {
            "_model_module": "@jupyter-widgets/base",
            "_model_module_version": "1.2.0",
            "_model_name": "LayoutModel",
            "_view_count": null,
            "_view_module": "@jupyter-widgets/base",
            "_view_module_version": "1.2.0",
            "_view_name": "LayoutView",
            "align_content": null,
            "align_items": null,
            "align_self": null,
            "border": null,
            "bottom": null,
            "display": null,
            "flex": null,
            "flex_flow": null,
            "grid_area": null,
            "grid_auto_columns": null,
            "grid_auto_flow": null,
            "grid_auto_rows": null,
            "grid_column": null,
            "grid_gap": null,
            "grid_row": null,
            "grid_template_areas": null,
            "grid_template_columns": null,
            "grid_template_rows": null,
            "height": null,
            "justify_content": null,
            "justify_items": null,
            "left": null,
            "margin": null,
            "max_height": null,
            "max_width": null,
            "min_height": null,
            "min_width": null,
            "object_fit": null,
            "object_position": null,
            "order": null,
            "overflow": null,
            "overflow_x": null,
            "overflow_y": null,
            "padding": null,
            "right": null,
            "top": null,
            "visibility": null,
            "width": null
          }
        },
        "967692439ccd47828a603e5507741a3f": {
          "model_module": "@jupyter-widgets/base",
          "model_name": "LayoutModel",
          "model_module_version": "1.2.0",
          "state": {
            "_model_module": "@jupyter-widgets/base",
            "_model_module_version": "1.2.0",
            "_model_name": "LayoutModel",
            "_view_count": null,
            "_view_module": "@jupyter-widgets/base",
            "_view_module_version": "1.2.0",
            "_view_name": "LayoutView",
            "align_content": null,
            "align_items": null,
            "align_self": null,
            "border": null,
            "bottom": null,
            "display": null,
            "flex": null,
            "flex_flow": null,
            "grid_area": null,
            "grid_auto_columns": null,
            "grid_auto_flow": null,
            "grid_auto_rows": null,
            "grid_column": null,
            "grid_gap": null,
            "grid_row": null,
            "grid_template_areas": null,
            "grid_template_columns": null,
            "grid_template_rows": null,
            "height": null,
            "justify_content": null,
            "justify_items": null,
            "left": null,
            "margin": null,
            "max_height": null,
            "max_width": null,
            "min_height": null,
            "min_width": null,
            "object_fit": null,
            "object_position": null,
            "order": null,
            "overflow": null,
            "overflow_x": null,
            "overflow_y": null,
            "padding": null,
            "right": null,
            "top": null,
            "visibility": null,
            "width": null
          }
        },
        "39a18208926a44709b8178e139c11057": {
          "model_module": "@jupyter-widgets/controls",
          "model_name": "DescriptionStyleModel",
          "model_module_version": "1.5.0",
          "state": {
            "_model_module": "@jupyter-widgets/controls",
            "_model_module_version": "1.5.0",
            "_model_name": "DescriptionStyleModel",
            "_view_count": null,
            "_view_module": "@jupyter-widgets/base",
            "_view_module_version": "1.2.0",
            "_view_name": "StyleView",
            "description_width": ""
          }
        },
        "e83baa42d84d461eab20b597faa88556": {
          "model_module": "@jupyter-widgets/base",
          "model_name": "LayoutModel",
          "model_module_version": "1.2.0",
          "state": {
            "_model_module": "@jupyter-widgets/base",
            "_model_module_version": "1.2.0",
            "_model_name": "LayoutModel",
            "_view_count": null,
            "_view_module": "@jupyter-widgets/base",
            "_view_module_version": "1.2.0",
            "_view_name": "LayoutView",
            "align_content": null,
            "align_items": null,
            "align_self": null,
            "border": null,
            "bottom": null,
            "display": null,
            "flex": null,
            "flex_flow": null,
            "grid_area": null,
            "grid_auto_columns": null,
            "grid_auto_flow": null,
            "grid_auto_rows": null,
            "grid_column": null,
            "grid_gap": null,
            "grid_row": null,
            "grid_template_areas": null,
            "grid_template_columns": null,
            "grid_template_rows": null,
            "height": null,
            "justify_content": null,
            "justify_items": null,
            "left": null,
            "margin": null,
            "max_height": null,
            "max_width": null,
            "min_height": null,
            "min_width": null,
            "object_fit": null,
            "object_position": null,
            "order": null,
            "overflow": null,
            "overflow_x": null,
            "overflow_y": null,
            "padding": null,
            "right": null,
            "top": null,
            "visibility": null,
            "width": null
          }
        },
        "913d7e0d172140ffb95eeed0dcc6e62f": {
          "model_module": "@jupyter-widgets/controls",
          "model_name": "ProgressStyleModel",
          "model_module_version": "1.5.0",
          "state": {
            "_model_module": "@jupyter-widgets/controls",
            "_model_module_version": "1.5.0",
            "_model_name": "ProgressStyleModel",
            "_view_count": null,
            "_view_module": "@jupyter-widgets/base",
            "_view_module_version": "1.2.0",
            "_view_name": "StyleView",
            "bar_color": null,
            "description_width": ""
          }
        },
        "123883f412a64d3a99a938fc2927a627": {
          "model_module": "@jupyter-widgets/base",
          "model_name": "LayoutModel",
          "model_module_version": "1.2.0",
          "state": {
            "_model_module": "@jupyter-widgets/base",
            "_model_module_version": "1.2.0",
            "_model_name": "LayoutModel",
            "_view_count": null,
            "_view_module": "@jupyter-widgets/base",
            "_view_module_version": "1.2.0",
            "_view_name": "LayoutView",
            "align_content": null,
            "align_items": null,
            "align_self": null,
            "border": null,
            "bottom": null,
            "display": null,
            "flex": null,
            "flex_flow": null,
            "grid_area": null,
            "grid_auto_columns": null,
            "grid_auto_flow": null,
            "grid_auto_rows": null,
            "grid_column": null,
            "grid_gap": null,
            "grid_row": null,
            "grid_template_areas": null,
            "grid_template_columns": null,
            "grid_template_rows": null,
            "height": null,
            "justify_content": null,
            "justify_items": null,
            "left": null,
            "margin": null,
            "max_height": null,
            "max_width": null,
            "min_height": null,
            "min_width": null,
            "object_fit": null,
            "object_position": null,
            "order": null,
            "overflow": null,
            "overflow_x": null,
            "overflow_y": null,
            "padding": null,
            "right": null,
            "top": null,
            "visibility": null,
            "width": null
          }
        },
        "9363017c38b543c180de146425ce4fd6": {
          "model_module": "@jupyter-widgets/controls",
          "model_name": "DescriptionStyleModel",
          "model_module_version": "1.5.0",
          "state": {
            "_model_module": "@jupyter-widgets/controls",
            "_model_module_version": "1.5.0",
            "_model_name": "DescriptionStyleModel",
            "_view_count": null,
            "_view_module": "@jupyter-widgets/base",
            "_view_module_version": "1.2.0",
            "_view_name": "StyleView",
            "description_width": ""
          }
        },
        "cf273fd9596f472fb5f3332c409c5b13": {
          "model_module": "@jupyter-widgets/controls",
          "model_name": "HBoxModel",
          "model_module_version": "1.5.0",
          "state": {
            "_dom_classes": [],
            "_model_module": "@jupyter-widgets/controls",
            "_model_module_version": "1.5.0",
            "_model_name": "HBoxModel",
            "_view_count": null,
            "_view_module": "@jupyter-widgets/controls",
            "_view_module_version": "1.5.0",
            "_view_name": "HBoxView",
            "box_style": "",
            "children": [
              "IPY_MODEL_86e5c67466aa4c1a853a7cd7356d2cf7",
              "IPY_MODEL_d4f075465a6f4e0a99a7a18f7f0e2874",
              "IPY_MODEL_9e04e230aa8a460596c541bd1377c9ae"
            ],
            "layout": "IPY_MODEL_38988ac1bb7a445aa6cca2c40340aee1"
          }
        },
        "86e5c67466aa4c1a853a7cd7356d2cf7": {
          "model_module": "@jupyter-widgets/controls",
          "model_name": "HTMLModel",
          "model_module_version": "1.5.0",
          "state": {
            "_dom_classes": [],
            "_model_module": "@jupyter-widgets/controls",
            "_model_module_version": "1.5.0",
            "_model_name": "HTMLModel",
            "_view_count": null,
            "_view_module": "@jupyter-widgets/controls",
            "_view_module_version": "1.5.0",
            "_view_name": "HTMLView",
            "description": "",
            "description_tooltip": null,
            "layout": "IPY_MODEL_b101b36924cb422ab80588edc464be33",
            "placeholder": "​",
            "style": "IPY_MODEL_63c0cb9abaed4d77b3a28260efe7101b",
            "value": "Generating train split: 100%"
          }
        },
        "d4f075465a6f4e0a99a7a18f7f0e2874": {
          "model_module": "@jupyter-widgets/controls",
          "model_name": "FloatProgressModel",
          "model_module_version": "1.5.0",
          "state": {
            "_dom_classes": [],
            "_model_module": "@jupyter-widgets/controls",
            "_model_module_version": "1.5.0",
            "_model_name": "FloatProgressModel",
            "_view_count": null,
            "_view_module": "@jupyter-widgets/controls",
            "_view_module_version": "1.5.0",
            "_view_name": "ProgressView",
            "bar_style": "success",
            "description": "",
            "description_tooltip": null,
            "layout": "IPY_MODEL_701b4a17e4f7434f836f3b66bf42ab62",
            "max": 160000,
            "min": 0,
            "orientation": "horizontal",
            "style": "IPY_MODEL_a290cd6e49df470cb5f265e1ee4d79d0",
            "value": 160000
          }
        },
        "9e04e230aa8a460596c541bd1377c9ae": {
          "model_module": "@jupyter-widgets/controls",
          "model_name": "HTMLModel",
          "model_module_version": "1.5.0",
          "state": {
            "_dom_classes": [],
            "_model_module": "@jupyter-widgets/controls",
            "_model_module_version": "1.5.0",
            "_model_name": "HTMLModel",
            "_view_count": null,
            "_view_module": "@jupyter-widgets/controls",
            "_view_module_version": "1.5.0",
            "_view_name": "HTMLView",
            "description": "",
            "description_tooltip": null,
            "layout": "IPY_MODEL_f1f8ecb118274dfb9ea968c3ab172668",
            "placeholder": "​",
            "style": "IPY_MODEL_9d258848561a4a4189fd79690cbaa4dd",
            "value": " 160000/160000 [00:01&lt;00:00, 173909.39 examples/s]"
          }
        },
        "38988ac1bb7a445aa6cca2c40340aee1": {
          "model_module": "@jupyter-widgets/base",
          "model_name": "LayoutModel",
          "model_module_version": "1.2.0",
          "state": {
            "_model_module": "@jupyter-widgets/base",
            "_model_module_version": "1.2.0",
            "_model_name": "LayoutModel",
            "_view_count": null,
            "_view_module": "@jupyter-widgets/base",
            "_view_module_version": "1.2.0",
            "_view_name": "LayoutView",
            "align_content": null,
            "align_items": null,
            "align_self": null,
            "border": null,
            "bottom": null,
            "display": null,
            "flex": null,
            "flex_flow": null,
            "grid_area": null,
            "grid_auto_columns": null,
            "grid_auto_flow": null,
            "grid_auto_rows": null,
            "grid_column": null,
            "grid_gap": null,
            "grid_row": null,
            "grid_template_areas": null,
            "grid_template_columns": null,
            "grid_template_rows": null,
            "height": null,
            "justify_content": null,
            "justify_items": null,
            "left": null,
            "margin": null,
            "max_height": null,
            "max_width": null,
            "min_height": null,
            "min_width": null,
            "object_fit": null,
            "object_position": null,
            "order": null,
            "overflow": null,
            "overflow_x": null,
            "overflow_y": null,
            "padding": null,
            "right": null,
            "top": null,
            "visibility": null,
            "width": null
          }
        },
        "b101b36924cb422ab80588edc464be33": {
          "model_module": "@jupyter-widgets/base",
          "model_name": "LayoutModel",
          "model_module_version": "1.2.0",
          "state": {
            "_model_module": "@jupyter-widgets/base",
            "_model_module_version": "1.2.0",
            "_model_name": "LayoutModel",
            "_view_count": null,
            "_view_module": "@jupyter-widgets/base",
            "_view_module_version": "1.2.0",
            "_view_name": "LayoutView",
            "align_content": null,
            "align_items": null,
            "align_self": null,
            "border": null,
            "bottom": null,
            "display": null,
            "flex": null,
            "flex_flow": null,
            "grid_area": null,
            "grid_auto_columns": null,
            "grid_auto_flow": null,
            "grid_auto_rows": null,
            "grid_column": null,
            "grid_gap": null,
            "grid_row": null,
            "grid_template_areas": null,
            "grid_template_columns": null,
            "grid_template_rows": null,
            "height": null,
            "justify_content": null,
            "justify_items": null,
            "left": null,
            "margin": null,
            "max_height": null,
            "max_width": null,
            "min_height": null,
            "min_width": null,
            "object_fit": null,
            "object_position": null,
            "order": null,
            "overflow": null,
            "overflow_x": null,
            "overflow_y": null,
            "padding": null,
            "right": null,
            "top": null,
            "visibility": null,
            "width": null
          }
        },
        "63c0cb9abaed4d77b3a28260efe7101b": {
          "model_module": "@jupyter-widgets/controls",
          "model_name": "DescriptionStyleModel",
          "model_module_version": "1.5.0",
          "state": {
            "_model_module": "@jupyter-widgets/controls",
            "_model_module_version": "1.5.0",
            "_model_name": "DescriptionStyleModel",
            "_view_count": null,
            "_view_module": "@jupyter-widgets/base",
            "_view_module_version": "1.2.0",
            "_view_name": "StyleView",
            "description_width": ""
          }
        },
        "701b4a17e4f7434f836f3b66bf42ab62": {
          "model_module": "@jupyter-widgets/base",
          "model_name": "LayoutModel",
          "model_module_version": "1.2.0",
          "state": {
            "_model_module": "@jupyter-widgets/base",
            "_model_module_version": "1.2.0",
            "_model_name": "LayoutModel",
            "_view_count": null,
            "_view_module": "@jupyter-widgets/base",
            "_view_module_version": "1.2.0",
            "_view_name": "LayoutView",
            "align_content": null,
            "align_items": null,
            "align_self": null,
            "border": null,
            "bottom": null,
            "display": null,
            "flex": null,
            "flex_flow": null,
            "grid_area": null,
            "grid_auto_columns": null,
            "grid_auto_flow": null,
            "grid_auto_rows": null,
            "grid_column": null,
            "grid_gap": null,
            "grid_row": null,
            "grid_template_areas": null,
            "grid_template_columns": null,
            "grid_template_rows": null,
            "height": null,
            "justify_content": null,
            "justify_items": null,
            "left": null,
            "margin": null,
            "max_height": null,
            "max_width": null,
            "min_height": null,
            "min_width": null,
            "object_fit": null,
            "object_position": null,
            "order": null,
            "overflow": null,
            "overflow_x": null,
            "overflow_y": null,
            "padding": null,
            "right": null,
            "top": null,
            "visibility": null,
            "width": null
          }
        },
        "a290cd6e49df470cb5f265e1ee4d79d0": {
          "model_module": "@jupyter-widgets/controls",
          "model_name": "ProgressStyleModel",
          "model_module_version": "1.5.0",
          "state": {
            "_model_module": "@jupyter-widgets/controls",
            "_model_module_version": "1.5.0",
            "_model_name": "ProgressStyleModel",
            "_view_count": null,
            "_view_module": "@jupyter-widgets/base",
            "_view_module_version": "1.2.0",
            "_view_name": "StyleView",
            "bar_color": null,
            "description_width": ""
          }
        },
        "f1f8ecb118274dfb9ea968c3ab172668": {
          "model_module": "@jupyter-widgets/base",
          "model_name": "LayoutModel",
          "model_module_version": "1.2.0",
          "state": {
            "_model_module": "@jupyter-widgets/base",
            "_model_module_version": "1.2.0",
            "_model_name": "LayoutModel",
            "_view_count": null,
            "_view_module": "@jupyter-widgets/base",
            "_view_module_version": "1.2.0",
            "_view_name": "LayoutView",
            "align_content": null,
            "align_items": null,
            "align_self": null,
            "border": null,
            "bottom": null,
            "display": null,
            "flex": null,
            "flex_flow": null,
            "grid_area": null,
            "grid_auto_columns": null,
            "grid_auto_flow": null,
            "grid_auto_rows": null,
            "grid_column": null,
            "grid_gap": null,
            "grid_row": null,
            "grid_template_areas": null,
            "grid_template_columns": null,
            "grid_template_rows": null,
            "height": null,
            "justify_content": null,
            "justify_items": null,
            "left": null,
            "margin": null,
            "max_height": null,
            "max_width": null,
            "min_height": null,
            "min_width": null,
            "object_fit": null,
            "object_position": null,
            "order": null,
            "overflow": null,
            "overflow_x": null,
            "overflow_y": null,
            "padding": null,
            "right": null,
            "top": null,
            "visibility": null,
            "width": null
          }
        },
        "9d258848561a4a4189fd79690cbaa4dd": {
          "model_module": "@jupyter-widgets/controls",
          "model_name": "DescriptionStyleModel",
          "model_module_version": "1.5.0",
          "state": {
            "_model_module": "@jupyter-widgets/controls",
            "_model_module_version": "1.5.0",
            "_model_name": "DescriptionStyleModel",
            "_view_count": null,
            "_view_module": "@jupyter-widgets/base",
            "_view_module_version": "1.2.0",
            "_view_name": "StyleView",
            "description_width": ""
          }
        },
        "5b3d810554d240c4bcc32e21c6d5843c": {
          "model_module": "@jupyter-widgets/controls",
          "model_name": "HBoxModel",
          "model_module_version": "1.5.0",
          "state": {
            "_dom_classes": [],
            "_model_module": "@jupyter-widgets/controls",
            "_model_module_version": "1.5.0",
            "_model_name": "HBoxModel",
            "_view_count": null,
            "_view_module": "@jupyter-widgets/controls",
            "_view_module_version": "1.5.0",
            "_view_name": "HBoxView",
            "box_style": "",
            "children": [
              "IPY_MODEL_de216c7696a94af2ad23db13378e139e",
              "IPY_MODEL_8d28ad5cbcd74131b18b462ddd90b1b0",
              "IPY_MODEL_2793587e11304e33b5af79c1889bd80d"
            ],
            "layout": "IPY_MODEL_527d1d10bdab42ed9a2296c0b3dc228b"
          }
        },
        "de216c7696a94af2ad23db13378e139e": {
          "model_module": "@jupyter-widgets/controls",
          "model_name": "HTMLModel",
          "model_module_version": "1.5.0",
          "state": {
            "_dom_classes": [],
            "_model_module": "@jupyter-widgets/controls",
            "_model_module_version": "1.5.0",
            "_model_name": "HTMLModel",
            "_view_count": null,
            "_view_module": "@jupyter-widgets/controls",
            "_view_module_version": "1.5.0",
            "_view_name": "HTMLView",
            "description": "",
            "description_tooltip": null,
            "layout": "IPY_MODEL_428259517d2f418eb7dc3adf8d45a048",
            "placeholder": "​",
            "style": "IPY_MODEL_d176427d8ea0491a882c5ecd46d7f102",
            "value": "Generating validation split: 100%"
          }
        },
        "8d28ad5cbcd74131b18b462ddd90b1b0": {
          "model_module": "@jupyter-widgets/controls",
          "model_name": "FloatProgressModel",
          "model_module_version": "1.5.0",
          "state": {
            "_dom_classes": [],
            "_model_module": "@jupyter-widgets/controls",
            "_model_module_version": "1.5.0",
            "_model_name": "FloatProgressModel",
            "_view_count": null,
            "_view_module": "@jupyter-widgets/controls",
            "_view_module_version": "1.5.0",
            "_view_name": "ProgressView",
            "bar_style": "success",
            "description": "",
            "description_tooltip": null,
            "layout": "IPY_MODEL_88133ad7a30d432fbf72ace7d8c202ec",
            "max": 20000,
            "min": 0,
            "orientation": "horizontal",
            "style": "IPY_MODEL_0146cff2ec2f47aa927fb7480b5a577e",
            "value": 20000
          }
        },
        "2793587e11304e33b5af79c1889bd80d": {
          "model_module": "@jupyter-widgets/controls",
          "model_name": "HTMLModel",
          "model_module_version": "1.5.0",
          "state": {
            "_dom_classes": [],
            "_model_module": "@jupyter-widgets/controls",
            "_model_module_version": "1.5.0",
            "_model_name": "HTMLModel",
            "_view_count": null,
            "_view_module": "@jupyter-widgets/controls",
            "_view_module_version": "1.5.0",
            "_view_name": "HTMLView",
            "description": "",
            "description_tooltip": null,
            "layout": "IPY_MODEL_22371c93dc8b4c4182f846b0bba7eae7",
            "placeholder": "​",
            "style": "IPY_MODEL_5efc2d323be748c2944a9e253c11e7c8",
            "value": " 20000/20000 [00:00&lt;00:00, 58209.65 examples/s]"
          }
        },
        "527d1d10bdab42ed9a2296c0b3dc228b": {
          "model_module": "@jupyter-widgets/base",
          "model_name": "LayoutModel",
          "model_module_version": "1.2.0",
          "state": {
            "_model_module": "@jupyter-widgets/base",
            "_model_module_version": "1.2.0",
            "_model_name": "LayoutModel",
            "_view_count": null,
            "_view_module": "@jupyter-widgets/base",
            "_view_module_version": "1.2.0",
            "_view_name": "LayoutView",
            "align_content": null,
            "align_items": null,
            "align_self": null,
            "border": null,
            "bottom": null,
            "display": null,
            "flex": null,
            "flex_flow": null,
            "grid_area": null,
            "grid_auto_columns": null,
            "grid_auto_flow": null,
            "grid_auto_rows": null,
            "grid_column": null,
            "grid_gap": null,
            "grid_row": null,
            "grid_template_areas": null,
            "grid_template_columns": null,
            "grid_template_rows": null,
            "height": null,
            "justify_content": null,
            "justify_items": null,
            "left": null,
            "margin": null,
            "max_height": null,
            "max_width": null,
            "min_height": null,
            "min_width": null,
            "object_fit": null,
            "object_position": null,
            "order": null,
            "overflow": null,
            "overflow_x": null,
            "overflow_y": null,
            "padding": null,
            "right": null,
            "top": null,
            "visibility": null,
            "width": null
          }
        },
        "428259517d2f418eb7dc3adf8d45a048": {
          "model_module": "@jupyter-widgets/base",
          "model_name": "LayoutModel",
          "model_module_version": "1.2.0",
          "state": {
            "_model_module": "@jupyter-widgets/base",
            "_model_module_version": "1.2.0",
            "_model_name": "LayoutModel",
            "_view_count": null,
            "_view_module": "@jupyter-widgets/base",
            "_view_module_version": "1.2.0",
            "_view_name": "LayoutView",
            "align_content": null,
            "align_items": null,
            "align_self": null,
            "border": null,
            "bottom": null,
            "display": null,
            "flex": null,
            "flex_flow": null,
            "grid_area": null,
            "grid_auto_columns": null,
            "grid_auto_flow": null,
            "grid_auto_rows": null,
            "grid_column": null,
            "grid_gap": null,
            "grid_row": null,
            "grid_template_areas": null,
            "grid_template_columns": null,
            "grid_template_rows": null,
            "height": null,
            "justify_content": null,
            "justify_items": null,
            "left": null,
            "margin": null,
            "max_height": null,
            "max_width": null,
            "min_height": null,
            "min_width": null,
            "object_fit": null,
            "object_position": null,
            "order": null,
            "overflow": null,
            "overflow_x": null,
            "overflow_y": null,
            "padding": null,
            "right": null,
            "top": null,
            "visibility": null,
            "width": null
          }
        },
        "d176427d8ea0491a882c5ecd46d7f102": {
          "model_module": "@jupyter-widgets/controls",
          "model_name": "DescriptionStyleModel",
          "model_module_version": "1.5.0",
          "state": {
            "_model_module": "@jupyter-widgets/controls",
            "_model_module_version": "1.5.0",
            "_model_name": "DescriptionStyleModel",
            "_view_count": null,
            "_view_module": "@jupyter-widgets/base",
            "_view_module_version": "1.2.0",
            "_view_name": "StyleView",
            "description_width": ""
          }
        },
        "88133ad7a30d432fbf72ace7d8c202ec": {
          "model_module": "@jupyter-widgets/base",
          "model_name": "LayoutModel",
          "model_module_version": "1.2.0",
          "state": {
            "_model_module": "@jupyter-widgets/base",
            "_model_module_version": "1.2.0",
            "_model_name": "LayoutModel",
            "_view_count": null,
            "_view_module": "@jupyter-widgets/base",
            "_view_module_version": "1.2.0",
            "_view_name": "LayoutView",
            "align_content": null,
            "align_items": null,
            "align_self": null,
            "border": null,
            "bottom": null,
            "display": null,
            "flex": null,
            "flex_flow": null,
            "grid_area": null,
            "grid_auto_columns": null,
            "grid_auto_flow": null,
            "grid_auto_rows": null,
            "grid_column": null,
            "grid_gap": null,
            "grid_row": null,
            "grid_template_areas": null,
            "grid_template_columns": null,
            "grid_template_rows": null,
            "height": null,
            "justify_content": null,
            "justify_items": null,
            "left": null,
            "margin": null,
            "max_height": null,
            "max_width": null,
            "min_height": null,
            "min_width": null,
            "object_fit": null,
            "object_position": null,
            "order": null,
            "overflow": null,
            "overflow_x": null,
            "overflow_y": null,
            "padding": null,
            "right": null,
            "top": null,
            "visibility": null,
            "width": null
          }
        },
        "0146cff2ec2f47aa927fb7480b5a577e": {
          "model_module": "@jupyter-widgets/controls",
          "model_name": "ProgressStyleModel",
          "model_module_version": "1.5.0",
          "state": {
            "_model_module": "@jupyter-widgets/controls",
            "_model_module_version": "1.5.0",
            "_model_name": "ProgressStyleModel",
            "_view_count": null,
            "_view_module": "@jupyter-widgets/base",
            "_view_module_version": "1.2.0",
            "_view_name": "StyleView",
            "bar_color": null,
            "description_width": ""
          }
        },
        "22371c93dc8b4c4182f846b0bba7eae7": {
          "model_module": "@jupyter-widgets/base",
          "model_name": "LayoutModel",
          "model_module_version": "1.2.0",
          "state": {
            "_model_module": "@jupyter-widgets/base",
            "_model_module_version": "1.2.0",
            "_model_name": "LayoutModel",
            "_view_count": null,
            "_view_module": "@jupyter-widgets/base",
            "_view_module_version": "1.2.0",
            "_view_name": "LayoutView",
            "align_content": null,
            "align_items": null,
            "align_self": null,
            "border": null,
            "bottom": null,
            "display": null,
            "flex": null,
            "flex_flow": null,
            "grid_area": null,
            "grid_auto_columns": null,
            "grid_auto_flow": null,
            "grid_auto_rows": null,
            "grid_column": null,
            "grid_gap": null,
            "grid_row": null,
            "grid_template_areas": null,
            "grid_template_columns": null,
            "grid_template_rows": null,
            "height": null,
            "justify_content": null,
            "justify_items": null,
            "left": null,
            "margin": null,
            "max_height": null,
            "max_width": null,
            "min_height": null,
            "min_width": null,
            "object_fit": null,
            "object_position": null,
            "order": null,
            "overflow": null,
            "overflow_x": null,
            "overflow_y": null,
            "padding": null,
            "right": null,
            "top": null,
            "visibility": null,
            "width": null
          }
        },
        "5efc2d323be748c2944a9e253c11e7c8": {
          "model_module": "@jupyter-widgets/controls",
          "model_name": "DescriptionStyleModel",
          "model_module_version": "1.5.0",
          "state": {
            "_model_module": "@jupyter-widgets/controls",
            "_model_module_version": "1.5.0",
            "_model_name": "DescriptionStyleModel",
            "_view_count": null,
            "_view_module": "@jupyter-widgets/base",
            "_view_module_version": "1.2.0",
            "_view_name": "StyleView",
            "description_width": ""
          }
        },
        "fb34b97d501745069ba3ba348424b7bd": {
          "model_module": "@jupyter-widgets/controls",
          "model_name": "HBoxModel",
          "model_module_version": "1.5.0",
          "state": {
            "_dom_classes": [],
            "_model_module": "@jupyter-widgets/controls",
            "_model_module_version": "1.5.0",
            "_model_name": "HBoxModel",
            "_view_count": null,
            "_view_module": "@jupyter-widgets/controls",
            "_view_module_version": "1.5.0",
            "_view_name": "HBoxView",
            "box_style": "",
            "children": [
              "IPY_MODEL_91deb1f765944022bcc22dcc8507a53b",
              "IPY_MODEL_13a64b0872d24588a3a5ae6d68710b95",
              "IPY_MODEL_5bb75210462347f1b7aaea147daf2077"
            ],
            "layout": "IPY_MODEL_7e01cb2fb4624e87bbb8298a6bda0842"
          }
        },
        "91deb1f765944022bcc22dcc8507a53b": {
          "model_module": "@jupyter-widgets/controls",
          "model_name": "HTMLModel",
          "model_module_version": "1.5.0",
          "state": {
            "_dom_classes": [],
            "_model_module": "@jupyter-widgets/controls",
            "_model_module_version": "1.5.0",
            "_model_name": "HTMLModel",
            "_view_count": null,
            "_view_module": "@jupyter-widgets/controls",
            "_view_module_version": "1.5.0",
            "_view_name": "HTMLView",
            "description": "",
            "description_tooltip": null,
            "layout": "IPY_MODEL_ebd325e170184a4f9d6a125313a099b6",
            "placeholder": "​",
            "style": "IPY_MODEL_d6589f05c47d45bb934ab36c1317b224",
            "value": "Generating test split: 100%"
          }
        },
        "13a64b0872d24588a3a5ae6d68710b95": {
          "model_module": "@jupyter-widgets/controls",
          "model_name": "FloatProgressModel",
          "model_module_version": "1.5.0",
          "state": {
            "_dom_classes": [],
            "_model_module": "@jupyter-widgets/controls",
            "_model_module_version": "1.5.0",
            "_model_name": "FloatProgressModel",
            "_view_count": null,
            "_view_module": "@jupyter-widgets/controls",
            "_view_module_version": "1.5.0",
            "_view_name": "ProgressView",
            "bar_style": "success",
            "description": "",
            "description_tooltip": null,
            "layout": "IPY_MODEL_86f902eeebeb40f184ec4d8443b92d86",
            "max": 20000,
            "min": 0,
            "orientation": "horizontal",
            "style": "IPY_MODEL_11a9ba5b903d4e4db5d0c1177146e0e2",
            "value": 20000
          }
        },
        "5bb75210462347f1b7aaea147daf2077": {
          "model_module": "@jupyter-widgets/controls",
          "model_name": "HTMLModel",
          "model_module_version": "1.5.0",
          "state": {
            "_dom_classes": [],
            "_model_module": "@jupyter-widgets/controls",
            "_model_module_version": "1.5.0",
            "_model_name": "HTMLModel",
            "_view_count": null,
            "_view_module": "@jupyter-widgets/controls",
            "_view_module_version": "1.5.0",
            "_view_name": "HTMLView",
            "description": "",
            "description_tooltip": null,
            "layout": "IPY_MODEL_39c7818d9b854273bbe89390efaa5bad",
            "placeholder": "​",
            "style": "IPY_MODEL_de8899b291b048789828c0d38bd67003",
            "value": " 20000/20000 [00:00&lt;00:00, 37702.73 examples/s]"
          }
        },
        "7e01cb2fb4624e87bbb8298a6bda0842": {
          "model_module": "@jupyter-widgets/base",
          "model_name": "LayoutModel",
          "model_module_version": "1.2.0",
          "state": {
            "_model_module": "@jupyter-widgets/base",
            "_model_module_version": "1.2.0",
            "_model_name": "LayoutModel",
            "_view_count": null,
            "_view_module": "@jupyter-widgets/base",
            "_view_module_version": "1.2.0",
            "_view_name": "LayoutView",
            "align_content": null,
            "align_items": null,
            "align_self": null,
            "border": null,
            "bottom": null,
            "display": null,
            "flex": null,
            "flex_flow": null,
            "grid_area": null,
            "grid_auto_columns": null,
            "grid_auto_flow": null,
            "grid_auto_rows": null,
            "grid_column": null,
            "grid_gap": null,
            "grid_row": null,
            "grid_template_areas": null,
            "grid_template_columns": null,
            "grid_template_rows": null,
            "height": null,
            "justify_content": null,
            "justify_items": null,
            "left": null,
            "margin": null,
            "max_height": null,
            "max_width": null,
            "min_height": null,
            "min_width": null,
            "object_fit": null,
            "object_position": null,
            "order": null,
            "overflow": null,
            "overflow_x": null,
            "overflow_y": null,
            "padding": null,
            "right": null,
            "top": null,
            "visibility": null,
            "width": null
          }
        },
        "ebd325e170184a4f9d6a125313a099b6": {
          "model_module": "@jupyter-widgets/base",
          "model_name": "LayoutModel",
          "model_module_version": "1.2.0",
          "state": {
            "_model_module": "@jupyter-widgets/base",
            "_model_module_version": "1.2.0",
            "_model_name": "LayoutModel",
            "_view_count": null,
            "_view_module": "@jupyter-widgets/base",
            "_view_module_version": "1.2.0",
            "_view_name": "LayoutView",
            "align_content": null,
            "align_items": null,
            "align_self": null,
            "border": null,
            "bottom": null,
            "display": null,
            "flex": null,
            "flex_flow": null,
            "grid_area": null,
            "grid_auto_columns": null,
            "grid_auto_flow": null,
            "grid_auto_rows": null,
            "grid_column": null,
            "grid_gap": null,
            "grid_row": null,
            "grid_template_areas": null,
            "grid_template_columns": null,
            "grid_template_rows": null,
            "height": null,
            "justify_content": null,
            "justify_items": null,
            "left": null,
            "margin": null,
            "max_height": null,
            "max_width": null,
            "min_height": null,
            "min_width": null,
            "object_fit": null,
            "object_position": null,
            "order": null,
            "overflow": null,
            "overflow_x": null,
            "overflow_y": null,
            "padding": null,
            "right": null,
            "top": null,
            "visibility": null,
            "width": null
          }
        },
        "d6589f05c47d45bb934ab36c1317b224": {
          "model_module": "@jupyter-widgets/controls",
          "model_name": "DescriptionStyleModel",
          "model_module_version": "1.5.0",
          "state": {
            "_model_module": "@jupyter-widgets/controls",
            "_model_module_version": "1.5.0",
            "_model_name": "DescriptionStyleModel",
            "_view_count": null,
            "_view_module": "@jupyter-widgets/base",
            "_view_module_version": "1.2.0",
            "_view_name": "StyleView",
            "description_width": ""
          }
        },
        "86f902eeebeb40f184ec4d8443b92d86": {
          "model_module": "@jupyter-widgets/base",
          "model_name": "LayoutModel",
          "model_module_version": "1.2.0",
          "state": {
            "_model_module": "@jupyter-widgets/base",
            "_model_module_version": "1.2.0",
            "_model_name": "LayoutModel",
            "_view_count": null,
            "_view_module": "@jupyter-widgets/base",
            "_view_module_version": "1.2.0",
            "_view_name": "LayoutView",
            "align_content": null,
            "align_items": null,
            "align_self": null,
            "border": null,
            "bottom": null,
            "display": null,
            "flex": null,
            "flex_flow": null,
            "grid_area": null,
            "grid_auto_columns": null,
            "grid_auto_flow": null,
            "grid_auto_rows": null,
            "grid_column": null,
            "grid_gap": null,
            "grid_row": null,
            "grid_template_areas": null,
            "grid_template_columns": null,
            "grid_template_rows": null,
            "height": null,
            "justify_content": null,
            "justify_items": null,
            "left": null,
            "margin": null,
            "max_height": null,
            "max_width": null,
            "min_height": null,
            "min_width": null,
            "object_fit": null,
            "object_position": null,
            "order": null,
            "overflow": null,
            "overflow_x": null,
            "overflow_y": null,
            "padding": null,
            "right": null,
            "top": null,
            "visibility": null,
            "width": null
          }
        },
        "11a9ba5b903d4e4db5d0c1177146e0e2": {
          "model_module": "@jupyter-widgets/controls",
          "model_name": "ProgressStyleModel",
          "model_module_version": "1.5.0",
          "state": {
            "_model_module": "@jupyter-widgets/controls",
            "_model_module_version": "1.5.0",
            "_model_name": "ProgressStyleModel",
            "_view_count": null,
            "_view_module": "@jupyter-widgets/base",
            "_view_module_version": "1.2.0",
            "_view_name": "StyleView",
            "bar_color": null,
            "description_width": ""
          }
        },
        "39c7818d9b854273bbe89390efaa5bad": {
          "model_module": "@jupyter-widgets/base",
          "model_name": "LayoutModel",
          "model_module_version": "1.2.0",
          "state": {
            "_model_module": "@jupyter-widgets/base",
            "_model_module_version": "1.2.0",
            "_model_name": "LayoutModel",
            "_view_count": null,
            "_view_module": "@jupyter-widgets/base",
            "_view_module_version": "1.2.0",
            "_view_name": "LayoutView",
            "align_content": null,
            "align_items": null,
            "align_self": null,
            "border": null,
            "bottom": null,
            "display": null,
            "flex": null,
            "flex_flow": null,
            "grid_area": null,
            "grid_auto_columns": null,
            "grid_auto_flow": null,
            "grid_auto_rows": null,
            "grid_column": null,
            "grid_gap": null,
            "grid_row": null,
            "grid_template_areas": null,
            "grid_template_columns": null,
            "grid_template_rows": null,
            "height": null,
            "justify_content": null,
            "justify_items": null,
            "left": null,
            "margin": null,
            "max_height": null,
            "max_width": null,
            "min_height": null,
            "min_width": null,
            "object_fit": null,
            "object_position": null,
            "order": null,
            "overflow": null,
            "overflow_x": null,
            "overflow_y": null,
            "padding": null,
            "right": null,
            "top": null,
            "visibility": null,
            "width": null
          }
        },
        "de8899b291b048789828c0d38bd67003": {
          "model_module": "@jupyter-widgets/controls",
          "model_name": "DescriptionStyleModel",
          "model_module_version": "1.5.0",
          "state": {
            "_model_module": "@jupyter-widgets/controls",
            "_model_module_version": "1.5.0",
            "_model_name": "DescriptionStyleModel",
            "_view_count": null,
            "_view_module": "@jupyter-widgets/base",
            "_view_module_version": "1.2.0",
            "_view_name": "StyleView",
            "description_width": ""
          }
        }
      }
    }
  },
  "nbformat": 4,
  "nbformat_minor": 0
}